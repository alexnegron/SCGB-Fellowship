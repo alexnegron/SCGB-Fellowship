{
  "cells": [
    {
      "cell_type": "code",
      "execution_count": 1,
      "metadata": {
        "id": "703ed953-2493-4ab6-bd48-085a407d3fa9",
        "outputId": "be53bed6-201c-4e6b-d895-eed315e85b2c",
        "colab": {
          "base_uri": "https://localhost:8080/"
        }
      },
      "outputs": [
        {
          "output_type": "stream",
          "name": "stderr",
          "text": [
            "/usr/local/lib/python3.7/dist-packages/statsmodels/tools/_testing.py:19: FutureWarning: pandas.util.testing is deprecated. Use the functions in the public API at pandas.testing instead.\n",
            "  import pandas.util.testing as tm\n"
          ]
        }
      ],
      "source": [
        "import numpy as np\n",
        "from statsmodels.tsa.stattools import ccovf\n",
        "from statsmodels.tsa.stattools import ccf\n",
        "from scipy.linalg import solve_continuous_lyapunov\n",
        "from numba import jit\n",
        "from scipy import signal\n",
        "from scipy.linalg import expm\n",
        "import matplotlib.pyplot as plt\n",
        "from matplotlib.colors import Normalize\n",
        "import matplotlib.cm as cm"
      ],
      "id": "703ed953-2493-4ab6-bd48-085a407d3fa9"
    },
    {
      "cell_type": "code",
      "execution_count": 2,
      "metadata": {
        "id": "847b327d-915e-4bdd-9b4c-7a04eaf00dcf"
      },
      "outputs": [],
      "source": [
        "def threshlin(I, k):\n",
        "    return k*np.maximum(I, 0)\n",
        "\n",
        "def d_threshlin(I, k):\n",
        "    return k*(np.maximum(I, 0) / np.abs(I))\n",
        "\n",
        "def correlation_from_covariance(covariance):\n",
        "    v = np.sqrt(np.diag(covariance))\n",
        "    outer_v = np.outer(v, v)\n",
        "    correlation = covariance / outer_v\n",
        "    correlation[covariance == 0] = 0\n",
        "    return correlation"
      ],
      "id": "847b327d-915e-4bdd-9b4c-7a04eaf00dcf"
    },
    {
      "cell_type": "code",
      "execution_count": 3,
      "metadata": {
        "id": "68cb675e-3206-471e-bc20-7835ce8c91b7"
      },
      "outputs": [],
      "source": [
        "def theory_cov(N, k, s, r_ss, W, c_ne, c_ni, tau_n, tau):\n",
        "    sgn = np.block([\n",
        "        [np.ones((3*N,N)), np.ones((3*N,N)), -np.ones((3*N,N))]\n",
        "    ])\n",
        "    \n",
        "    c_n = np.diagflat(np.block([\n",
        "        [np.full((N,1), c_ne)],\n",
        "        [np.full((N,1), c_ne)],\n",
        "        [np.full((N,1), c_ni)]\n",
        "    ]))\n",
        "    \n",
        "    L = np.diagflat(d_threshlin(s + (sgn*W)@r_ss, k))\n",
        "    LW = L@(sgn*W)\n",
        "    Eye = np.eye(3*N)\n",
        "    \n",
        "    M = (1/tau)*(-Eye + LW)\n",
        "    Minv = np.linalg.inv(M)\n",
        "    \n",
        "    D = c_n@L\n",
        "    D = (1/tau)*np.sqrt(2*tau_n)*D\n",
        "    \n",
        "    Sigma = Minv @ D @ ((Minv@D).T)\n",
        "    \n",
        "    return Sigma"
      ],
      "id": "68cb675e-3206-471e-bc20-7835ce8c91b7"
    },
    {
      "cell_type": "code",
      "execution_count": 6,
      "metadata": {
        "id": "1aa45f7e-f013-47a0-93ee-e79c09e9edb2"
      },
      "outputs": [],
      "source": [
        "def model(t0, T, dt, N, tau_E, tau_I, tau_n, c_ne, c_ni, J_EE, J_II, J_EI, J_IE, k, s, a, b):\n",
        "    r1 = np.zeros((N,1))\n",
        "    r2 = np.zeros((N,1))\n",
        "    rI = np.zeros((N,1))\n",
        "    \n",
        "    # matrices to store firing rates as row and time as column\n",
        "    R_ss = np.zeros((3*N, 1))\n",
        "    R_n = np.zeros((3*N, 1))\n",
        "    \n",
        "    xs = np.linspace(0, N-1, N)\n",
        "\n",
        "    W_E1E1 = W_E2E2 = J_EE\n",
        "    W_IE1 = W_IE2 = J_IE\n",
        "    W_E1I = W_E2I = J_EI\n",
        "    W_II = J_II\n",
        "    \n",
        "    W_E1E2 = b*W_E2E2\n",
        "    W_E2E1 = a*W_E1E1\n",
        "    \n",
        "    W = np.block([\n",
        "        [W_E1E1, W_E1E2, W_E1I],\n",
        "        [W_E2E1, W_E2E2, W_E2I],\n",
        "        [W_IE1, W_IE2, W_II]\n",
        "    ])\n",
        "    \n",
        "    sgn = np.block([\n",
        "        [np.ones((3*N,N)), np.ones((3*N,N)), -np.ones((3*N,N))]\n",
        "    ])\n",
        "    \n",
        "    s = np.block([\n",
        "        [s],\n",
        "        [s],\n",
        "        [s]\n",
        "    ])\n",
        "    \n",
        "    r_n = np.zeros((3*N,1))\n",
        "    r_ss = np.zeros((3*N,1))\n",
        "    \n",
        "    \n",
        "    # initial inputs \n",
        "    Id = s + (sgn*W)@r_ss\n",
        "    In = s + (sgn*W)@r_n\n",
        "    \n",
        "    \n",
        "    # smoothed noise process \n",
        "    eta = np.zeros((3*N, 1))\n",
        "    \n",
        "    # vector of E/I timescales \n",
        "    tau = np.block([\n",
        "        [np.full((N,1), tau_E)],\n",
        "        [np.full((N,1), tau_E)],\n",
        "        [np.full((N,1), tau_I)]\n",
        "    ])\n",
        "    \n",
        "    # vector of noise magnitudes\n",
        "    c_n = np.block([\n",
        "        [np.full((N,1), c_ne)],\n",
        "        [np.full((N,1), c_ne)],\n",
        "        [np.full((N,1), c_ni)]\n",
        "    ])\n",
        "    \n",
        "    M = int(T/dt)\n",
        "    ts = np.arange(M+1)\n",
        "    \n",
        "    #print(M)\n",
        "    for m in range(M):\n",
        "    # deterministic sim\n",
        "        #print(m)\n",
        "        r_ss += dt*(1/tau)*(-r_ss + threshlin(Id, k))\n",
        "        Id = s + (sgn*W)@r_ss\n",
        "        R_ss = np.c_[R_ss, r_ss]\n",
        "    # noise sim\n",
        "        x = np.random.randn(3*N,1)\n",
        "        eta += (1/tau_n) * (-eta*dt + np.sqrt(2*tau_n*dt)*x)\n",
        "        r_n += dt*(1/tau)*(-r_n + threshlin(In + c_n*eta,k))\n",
        "        In = s + (sgn*W)@r_n \n",
        "        R_n = np.c_[R_n, r_n]\n",
        "        \n",
        "    return r_ss, r_n, R_ss, R_n, W, s, sgn, xs, ts, c_ne, c_ni, tau_n\n",
        "    "
      ],
      "id": "1aa45f7e-f013-47a0-93ee-e79c09e9edb2"
    },
    {
      "cell_type": "markdown",
      "metadata": {
        "id": "726e69e4-11f4-4626-a43f-ec4d896647a8"
      },
      "source": [
        "# Simulation"
      ],
      "id": "726e69e4-11f4-4626-a43f-ec4d896647a8"
    },
    {
      "cell_type": "code",
      "execution_count": null,
      "metadata": {
        "id": "1d9e3f3c-2f36-4ecb-8a0d-d33f7f570809"
      },
      "outputs": [],
      "source": [
        "r_ss, r_n, R_ss, R_n, W, s, sgn, xs, ts, sigE, sigI, tau_n = model(t0=0, \n",
        "                                                     T=800, \n",
        "                                                     dt=0.01, \n",
        "                                                     N=1, \n",
        "                                                     tau_E=15, \n",
        "                                                     tau_I=15, \n",
        "                                                     tau_n=1, \n",
        "                                                     c_ne=1, \n",
        "                                                     c_ni=1, \n",
        "                                                           \n",
        "                                                     J_EE=.5, \n",
        "                                                     J_II=.5, \n",
        "                                                     J_EI=.8, \n",
        "                                                     J_IE=.25,\n",
        "                                                           \n",
        "                                                     k = 1, \n",
        "                                                     s = 15,\n",
        "                                                     a = 0.01,\n",
        "                                                     b = 0.01 )"
      ],
      "id": "1d9e3f3c-2f36-4ecb-8a0d-d33f7f570809"
    },
    {
      "cell_type": "markdown",
      "metadata": {
        "id": "1fa1da6f-4814-495c-878a-58392041be31"
      },
      "source": [
        "## Sample paths"
      ],
      "id": "1fa1da6f-4814-495c-878a-58392041be31"
    },
    {
      "cell_type": "code",
      "execution_count": null,
      "metadata": {
        "colab": {
          "base_uri": "https://localhost:8080/",
          "height": 265
        },
        "id": "f8fc35e6-82b4-4bf0-91de-d7661af7dba7",
        "outputId": "25523fca-f198-49d4-afd2-7bde1008a9c9"
      },
      "outputs": [
        {
          "output_type": "display_data",
          "data": {
            "image/png": "[encoded data removed]",
            "text/plain": [
              "<Figure size 432x288 with 1 Axes>"
            ]
          },
          "metadata": {
            "needs_background": "light"
          }
        }
      ],
      "source": [
        "plt.plot(R_n[0,:], color='red', linestyle='--', alpha=.55)\n",
        "plt.plot(R_ss[0,:], color='red')\n",
        "\n",
        "plt.plot(R_n[1,:], color='orange', linestyle='--', alpha=.55)\n",
        "plt.plot(R_ss[1,:], color='orange')\n",
        "\n",
        "plt.plot(R_n[2,:], color='b', linestyle='--', alpha=.4)\n",
        "plt.plot(R_ss[2,:], color='b')\n",
        "\n",
        "plt.show()\n",
        "plt.show()\n",
        "plt.show()"
      ],
      "id": "f8fc35e6-82b4-4bf0-91de-d7661af7dba7"
    },
    {
      "cell_type": "markdown",
      "metadata": {
        "id": "1807defd-db7d-44c4-89da-cd35859024c2"
      },
      "source": [
        "Clip transient:"
      ],
      "id": "1807defd-db7d-44c4-89da-cd35859024c2"
    },
    {
      "cell_type": "code",
      "execution_count": null,
      "metadata": {
        "id": "HnmSph6tsFt2"
      },
      "outputs": [],
      "source": [
        "R_n = R_n[:, 20_000:]\n",
        "R_ss = R_ss[:, 20_000:]"
      ],
      "id": "HnmSph6tsFt2"
    },
    {
      "cell_type": "code",
      "execution_count": null,
      "metadata": {
        "colab": {
          "base_uri": "https://localhost:8080/",
          "height": 265
        },
        "id": "977713bb-1001-41aa-afe6-f1d33e3a483d",
        "outputId": "b7588e8e-050c-4fd9-ffb4-a2b2f37024f5"
      },
      "outputs": [
        {
          "output_type": "display_data",
          "data": {
            "image/png": "[encoded data removed]",
            "text/plain": [
              "<Figure size 432x288 with 1 Axes>"
            ]
          },
          "metadata": {
            "needs_background": "light"
          }
        }
      ],
      "source": [
        "plt.plot(R_n[0,:], color='red', linestyle='--', alpha=.55)\n",
        "plt.plot(R_ss[0,:], color='red')\n",
        "\n",
        "plt.plot(R_n[1,:], color='orange', linestyle='--', alpha=.55)\n",
        "plt.plot(R_ss[1,:], color='orange')\n",
        "\n",
        "plt.plot(R_n[2,:], color='b', linestyle='--', alpha=.4)\n",
        "plt.plot(R_ss[2,:], color='b')\n",
        "\n",
        "plt.show()\n",
        "plt.show()\n",
        "plt.show()"
      ],
      "id": "977713bb-1001-41aa-afe6-f1d33e3a483d"
    },
    {
      "cell_type": "code",
      "source": [
        "Minv = np.linalg.inv(M)\n",
        "(Minv@D)@(Minv@D).T"
      ],
      "metadata": {
        "colab": {
          "base_uri": "https://localhost:8080/"
        },
        "id": "diLOX01Y0pdm",
        "outputId": "a00cac7a-c0b9-4741-abe7-a165510f0804"
      },
      "id": "diLOX01Y0pdm",
      "execution_count": null,
      "outputs": [
        {
          "output_type": "execute_result",
          "data": {
            "text/plain": [
              "array([[ 6.6255304 , -1.216838  , -0.03217636],\n",
              "       [-1.216838  ,  6.6255304 , -0.03217636],\n",
              "       [-0.03217636, -0.03217636,  0.56695507]])"
            ]
          },
          "metadata": {},
          "execution_count": 82
        }
      ]
    },
    {
      "cell_type": "markdown",
      "metadata": {
        "id": "02a43396-e10a-40b4-923b-25eedf6f1f37"
      },
      "source": [
        "# Theoretical stationary cross-covariance function"
      ],
      "id": "02a43396-e10a-40b4-923b-25eedf6f1f37"
    },
    {
      "cell_type": "markdown",
      "metadata": {
        "id": "9850f71c-9be8-46ae-999c-282ac1e3b4be"
      },
      "source": [
        "Flucutations $\\delta \\mathbf{r}$ about the steady state rate $\\overline{\\mathbf{r}}$ solve the linearized equation\n",
        "\n",
        "$$\n",
        "    \\delta \\mathbf{\\dot{r}} = M \\delta \\mathbf{r} + D \\mathbf{x}\n",
        "$$\n",
        "\n",
        "Theoretical stationary cross-covariance function is computed:\n",
        "\n",
        "$$ \n",
        "\\tilde{C}(s) := \\langle \\delta \\mathbf{r}_i(t), \\delta \\mathbf{r}_j(t+s) \\rangle \n",
        "=\n",
        "\\begin{cases}\n",
        "    \\exp\\left(Ms\\right)\\cdot \\Sigma, & s > 0 \\\\\n",
        "    \\Sigma \\cdot \\exp\\left(-M^\\top s\\right), & s \\leq 0\n",
        "\\end{cases}\n",
        "$$\n",
        "\n",
        "where $\\Sigma$ is the solution to the Lyapunov equation\n",
        "\n",
        "$$\n",
        "(-M)\\Sigma + \\Sigma (-M^\\top) = DD^\\top\n",
        "$$"
      ],
      "id": "9850f71c-9be8-46ae-999c-282ac1e3b4be"
    },
    {
      "cell_type": "code",
      "execution_count": null,
      "metadata": {
        "id": "6d11e3cd-c462-4643-8c9f-004c2575a973"
      },
      "outputs": [],
      "source": [
        "def stationary_acovf(lags, M, sigma, dt,tau):\n",
        "    nonpos_lags = lags[lags<=0]\n",
        "    pos_lags = lags[lags>0]\n",
        "    \n",
        "    arr1 = [sigma @ expm((-M.T)*s) for s in nonpos_lags]\n",
        "    arr2 = [expm(M*s) @ sigma for s in pos_lags]\n",
        "\n",
        "    return np.append(arr1,arr2, axis=0)"
      ],
      "id": "6d11e3cd-c462-4643-8c9f-004c2575a973"
    },
    {
      "cell_type": "code",
      "execution_count": null,
      "metadata": {
        "id": "80ebc15b-fa67-429f-b750-08ffcf02c787"
      },
      "outputs": [],
      "source": [
        "k=1\n",
        "N=1\n",
        "\n",
        "L = np.diagflat(d_threshlin(s + (sgn*W)@r_ss, k))\n",
        "LW = L@(sgn*W)\n",
        "Eye = np.eye(3*N)\n",
        "M = (1/tau)*(-Eye + LW)\n",
        "\n",
        "c_n = np.diagflat(np.block([\n",
        "        [np.full((N,1), sigE)],\n",
        "        [np.full((N,1), sigE)],\n",
        "        [np.full((N,1), sigI)]\n",
        "    ]))\n",
        "D = c_n@L\n",
        "D = (1/tau)*np.sqrt(2*tau_n)*D\n",
        "\n",
        "sigma = solve_continuous_lyapunov(-M, D@(D.T))"
      ],
      "id": "80ebc15b-fa67-429f-b750-08ffcf02c787"
    },
    {
      "cell_type": "code",
      "execution_count": null,
      "metadata": {
        "colab": {
          "base_uri": "https://localhost:8080/"
        },
        "id": "dd2f6cf1-315d-4d79-b61f-b761d6129be0",
        "outputId": "9c55be2a-7986-458d-ed14-27aef311949b"
      },
      "outputs": [
        {
          "output_type": "execute_result",
          "data": {
            "text/plain": [
              "array([[ 0.13433936,  0.00232616, -0.00061423],\n",
              "       [ 0.00232616,  0.13433936, -0.00061423],\n",
              "       [-0.00061423, -0.00061423,  0.0442397 ]])"
            ]
          },
          "metadata": {},
          "execution_count": 94
        }
      ],
      "source": [
        "sigma"
      ],
      "id": "dd2f6cf1-315d-4d79-b61f-b761d6129be0"
    },
    {
      "cell_type": "code",
      "execution_count": null,
      "metadata": {
        "colab": {
          "base_uri": "https://localhost:8080/",
          "height": 268
        },
        "id": "f0e7c151-147e-41b1-b5a7-6b61c9d791a0",
        "outputId": "aaa6c184-1d67-4b28-83f9-c0440e66b6a8"
      },
      "outputs": [
        {
          "output_type": "display_data",
          "data": {
            "image/png": "[encoded data removed]",
            "text/plain": [
              "<Figure size 432x288 with 1 Axes>"
            ]
          },
          "metadata": {
            "needs_background": "light"
          }
        }
      ],
      "source": [
        "lags1 = np.arange(-100,100)\n",
        "dt = 0.01\n",
        "tau=15\n",
        "acf = stationary_acovf(lags1, M, sigma, dt, tau)\n",
        "y = [x[0,0] for x in acf]\n",
        "plt.plot(lags1, y)\n",
        "plt.show()"
      ],
      "id": "f0e7c151-147e-41b1-b5a7-6b61c9d791a0"
    },
    {
      "cell_type": "code",
      "source": [
        "np.trapz(y)"
      ],
      "metadata": {
        "colab": {
          "base_uri": "https://localhost:8080/"
        },
        "id": "7PztJMD73u7K",
        "outputId": "ad0ee487-4080-42b2-d1b1-42e4e6c9bf41"
      },
      "id": "7PztJMD73u7K",
      "execution_count": null,
      "outputs": [
        {
          "output_type": "execute_result",
          "data": {
            "text/plain": [
              "6.49037744786137"
            ]
          },
          "metadata": {},
          "execution_count": 100
        }
      ]
    },
    {
      "cell_type": "code",
      "source": [
        "stationary_acovf(lags1, M, sigma, dt, tau)"
      ],
      "metadata": {
        "colab": {
          "base_uri": "https://localhost:8080/"
        },
        "id": "-Ms3hz2Z3ksn",
        "outputId": "941ec08c-f963-4510-f3f7-6cd1cb98752e"
      },
      "id": "-Ms3hz2Z3ksn",
      "execution_count": null,
      "outputs": [
        {
          "output_type": "execute_result",
          "data": {
            "text/plain": [
              "array([[[ 2.26805593e-03, -2.28698839e-03,  6.44460355e-05],\n",
              "        [-2.28698839e-03,  2.26805593e-03,  6.44460355e-05],\n",
              "        [-6.53845215e-05, -6.53845215e-05, -8.95417991e-05]],\n",
              "\n",
              "       [[ 2.34940220e-03, -2.36160594e-03,  7.14991747e-05],\n",
              "        [-2.36160594e-03,  2.34940220e-03,  7.14991747e-05],\n",
              "        [-7.26201601e-05, -7.26201601e-05, -9.65438805e-05]],\n",
              "\n",
              "       [[ 2.43393026e-03, -2.43838187e-03,  7.91674800e-05],\n",
              "        [-2.43838187e-03,  2.43393026e-03,  7.91674800e-05],\n",
              "        [-8.04908399e-05, -8.04908399e-05, -1.04017907e-04]],\n",
              "\n",
              "       ...,\n",
              "\n",
              "       [[ 2.52178327e-03, -2.51735586e-03, -8.90441686e-05],\n",
              "        [-2.51735586e-03,  2.52178327e-03, -8.90441686e-05],\n",
              "        [ 8.74968305e-05,  8.74968305e-05, -1.11990438e-04]],\n",
              "\n",
              "       [[ 2.43393026e-03, -2.43838187e-03, -8.04908399e-05],\n",
              "        [-2.43838187e-03,  2.43393026e-03, -8.04908399e-05],\n",
              "        [ 7.91674800e-05,  7.91674800e-05, -1.04017907e-04]],\n",
              "\n",
              "       [[ 2.34940220e-03, -2.36160594e-03, -7.26201601e-05],\n",
              "        [-2.36160594e-03,  2.34940220e-03, -7.26201601e-05],\n",
              "        [ 7.14991747e-05,  7.14991747e-05, -9.65438805e-05]]])"
            ]
          },
          "metadata": {},
          "execution_count": 97
        }
      ]
    },
    {
      "cell_type": "code",
      "source": [
        "np.trapz(stationary_acovf(lags1, M, sigma, dt, tau).flatten())"
      ],
      "metadata": {
        "colab": {
          "base_uri": "https://localhost:8080/"
        },
        "id": "keMN9b9R0cAl",
        "outputId": "8b5b7a73-754c-473d-a795-98a5ba86edeb"
      },
      "id": "keMN9b9R0cAl",
      "execution_count": null,
      "outputs": [
        {
          "output_type": "execute_result",
          "data": {
            "text/plain": [
              "11.265660952077301"
            ]
          },
          "metadata": {},
          "execution_count": 96
        }
      ]
    },
    {
      "cell_type": "code",
      "execution_count": null,
      "metadata": {
        "id": "afff64fd-5be3-4141-922b-66041b41a242"
      },
      "outputs": [],
      "source": [
        "def xcov(x,y):\n",
        "    xbar = np.mean(x)\n",
        "    ybar = np.mean(y)\n",
        "    n = len(x)\n",
        "    d = np.arange(n)\n",
        "    k = np.append(d[::-1], d[1:])\n",
        "    \n",
        "    return signal.correlate(x-xbar, y-ybar, mode='full', method='fft')/(n-k)"
      ],
      "id": "afff64fd-5be3-4141-922b-66041b41a242"
    },
    {
      "cell_type": "code",
      "execution_count": null,
      "metadata": {
        "colab": {
          "base_uri": "https://localhost:8080/",
          "height": 265
        },
        "id": "83081a37-2dbc-41c5-b974-655c6092a6ca",
        "outputId": "1f859a9f-c8cd-497d-da66-10190eb2df5c"
      },
      "outputs": [
        {
          "data": {
            "image/png": "[encoded data removed]",
            "text/plain": [
              "<Figure size 432x288 with 1 Axes>"
            ]
          },
          "metadata": {},
          "output_type": "display_data"
        }
      ],
      "source": [
        "plt.plot(15*xcov(R_n[0,:], R_n[2,:]))\n",
        "plt.show()"
      ],
      "id": "83081a37-2dbc-41c5-b974-655c6092a6ca"
    },
    {
      "cell_type": "code",
      "execution_count": null,
      "metadata": {
        "colab": {
          "base_uri": "https://localhost:8080/"
        },
        "id": "fMj3v3kZAYvn",
        "outputId": "362fc717-1e97-4f68-f1d6-556564a6ab66"
      },
      "outputs": [
        {
          "data": {
            "text/plain": [
              "(120001,)"
            ]
          },
          "execution_count": 178,
          "metadata": {},
          "output_type": "execute_result"
        }
      ],
      "source": [
        "(xcov(R_n[0,:], R_n[0,:])).shape"
      ],
      "id": "fMj3v3kZAYvn"
    },
    {
      "cell_type": "code",
      "execution_count": null,
      "metadata": {
        "id": "n5gebWZFDBu4"
      },
      "outputs": [],
      "source": [
        "lags2 = np.arange(-100,100, 2*dt)"
      ],
      "id": "n5gebWZFDBu4"
    },
    {
      "cell_type": "code",
      "execution_count": null,
      "metadata": {
        "colab": {
          "base_uri": "https://localhost:8080/",
          "height": 268
        },
        "id": "bku73We-BWlm",
        "outputId": "37e63f32-c15e-48f9-aa9b-9e2cfa0f7263"
      },
      "outputs": [
        {
          "output_type": "display_data",
          "data": {
            "image/png": "[encoded data removed]",
            "text/plain": [
              "<Figure size 432x288 with 1 Axes>"
            ]
          },
          "metadata": {
            "needs_background": "light"
          }
        }
      ],
      "source": [
        "plt.plot((xcov(R_n[0,:], R_n[0,:]))[55_000:65_000])\n",
        "plt.plot(lags1, y)\n",
        "plt.show()"
      ],
      "id": "bku73We-BWlm"
    },
    {
      "cell_type": "code",
      "execution_count": null,
      "metadata": {
        "colab": {
          "base_uri": "https://localhost:8080/"
        },
        "id": "RUcdkninBffx",
        "outputId": "5c2b692e-c813-4284-e885-713ceeb217df"
      },
      "outputs": [
        {
          "data": {
            "text/plain": [
              "100.0"
            ]
          },
          "execution_count": 87,
          "metadata": {},
          "output_type": "execute_result"
        }
      ],
      "source": [
        "10_000*.01"
      ],
      "id": "RUcdkninBffx"
    },
    {
      "cell_type": "code",
      "execution_count": null,
      "metadata": {
        "colab": {
          "base_uri": "https://localhost:8080/"
        },
        "id": "duRRCHCWCDCf",
        "outputId": "ee61b117-d148-40b8-97e0-76cf970e916f"
      },
      "outputs": [
        {
          "data": {
            "text/plain": [
              "(10000,)"
            ]
          },
          "execution_count": 99,
          "metadata": {},
          "output_type": "execute_result"
        }
      ],
      "source": [
        "np.arange(-100,100,2*dt).shape"
      ],
      "id": "duRRCHCWCDCf"
    },
    {
      "cell_type": "code",
      "execution_count": null,
      "metadata": {
        "colab": {
          "base_uri": "https://localhost:8080/"
        },
        "id": "idcJNdxdGjaO",
        "outputId": "1cc0578e-d88f-494a-b5ce-c118648bd6df"
      },
      "outputs": [
        {
          "output_type": "stream",
          "name": "stdout",
          "text": [
            "0\n",
            "1\n",
            "2\n",
            "3\n",
            "4\n",
            "5\n",
            "6\n",
            "7\n",
            "8\n",
            "9\n",
            "10\n",
            "11\n",
            "12\n",
            "13\n",
            "14\n",
            "15\n",
            "16\n",
            "17\n",
            "18\n",
            "19\n",
            "20\n",
            "21\n",
            "22\n",
            "23\n",
            "24\n",
            "25\n",
            "26\n",
            "27\n",
            "28\n",
            "29\n",
            "30\n",
            "31\n",
            "32\n",
            "33\n",
            "34\n",
            "35\n",
            "36\n",
            "37\n",
            "38\n",
            "39\n",
            "40\n",
            "41\n",
            "42\n",
            "43\n",
            "44\n",
            "45\n",
            "46\n",
            "47\n",
            "48\n",
            "49\n",
            "50\n",
            "51\n",
            "52\n",
            "53\n",
            "54\n",
            "55\n",
            "56\n",
            "57\n",
            "58\n",
            "59\n",
            "60\n",
            "61\n",
            "62\n",
            "63\n",
            "64\n",
            "65\n",
            "66\n",
            "67\n",
            "68\n",
            "69\n",
            "70\n",
            "71\n",
            "72\n",
            "73\n",
            "74\n",
            "75\n",
            "76\n",
            "77\n",
            "78\n",
            "79\n",
            "80\n",
            "81\n",
            "82\n",
            "83\n",
            "84\n",
            "85\n",
            "86\n",
            "87\n",
            "88\n",
            "89\n",
            "90\n",
            "91\n",
            "92\n",
            "93\n",
            "94\n",
            "95\n",
            "96\n",
            "97\n",
            "98\n",
            "99\n"
          ]
        }
      ],
      "source": [
        "corrmat00 = np.array([])\n",
        "corrmat01 = np.array([])\n",
        "corrmat11 = np.array([])\n",
        "corrmat22 = np.array([])\n",
        "corrmat12 = np.array([])\n",
        "\n",
        "r_ss, r_n, R_ss, R_n, W, s, sgn, xs, ts, sigE, sigI, tau_n = model(t0=0, \n",
        "                                                    T=800, \n",
        "                                                    dt=0.01, \n",
        "                                                    N=1, \n",
        "                                                    tau_E=15, \n",
        "                                                    tau_I=15, \n",
        "                                                    tau_n=1, \n",
        "                                                    c_ne=1, \n",
        "                                                    c_ni=1, \n",
        "                                                          \n",
        "                                                    J_EE=.5, \n",
        "                                                    J_II=.5, \n",
        "                                                    J_EI=.8, \n",
        "                                                    J_IE=.25,\n",
        "                                                          \n",
        "                                                    k = 1, \n",
        "                                                    s = 15,\n",
        "                                                    a = 0.01,\n",
        "                                                    b = 0.01 )\n",
        "R_n = R_n[:, 20_000:]\n",
        "R_ss = R_ss[:, 20_000:]\n",
        "\n",
        "corrmat00 = 15*xcov(R_n[0,:], R_n[0,:])\n",
        "corrmat11 = 15*xcov(R_n[1,:], R_n[1,:])\n",
        "corrmat12 = 15*xcov(R_n[1,:], R_n[2,:])\n",
        "corrmat01 = 15*xcov(R_n[0,:], R_n[1,:])\n",
        "corrmat22 = 15*xcov(R_n[2,:], R_n[2,:])\n",
        "\n",
        "for sim in range(100):\n",
        "  print(sim)\n",
        "  r_ss, r_n, R_ss, R_n, W, s, sgn, xs, ts, sigE, sigI, tau_n = model(t0=0, \n",
        "                                                     T=800, \n",
        "                                                     dt=0.01, \n",
        "                                                     N=1, \n",
        "                                                     tau_E=15, \n",
        "                                                     tau_I=15, \n",
        "                                                     tau_n=1, \n",
        "                                                     c_ne=1, \n",
        "                                                     c_ni=1, \n",
        "                                                           \n",
        "                                                     J_EE=.5, \n",
        "                                                     J_II=.5, \n",
        "                                                     J_EI=.8, \n",
        "                                                     J_IE=.25,\n",
        "                                                           \n",
        "                                                     k = 1, \n",
        "                                                     s = 15,\n",
        "                                                     a = 0.01,\n",
        "                                                     b = 0.01 )\n",
        "  R_n = R_n[:, 20_000:]\n",
        "  R_ss = R_ss[:, 20_000:]\n",
        "  \n",
        "  corrmat00 = np.c_[corrmat00, xcov(R_n[0,:], R_n[0,:])]\n",
        "  corrmat11 = np.c_[corrmat11, xcov(R_n[1,:], R_n[1,:])]\n",
        "  corrmat12 = np.c_[corrmat12, xcov(R_n[1,:], R_n[2,:])]\n",
        "  corrmat01 = np.c_[corrmat01, xcov(R_n[0,:], R_n[1,:])]\n",
        "  corrmat22 = np.c_[corrmat22, xcov(R_n[2,:], R_n[2,:])]\n",
        "  \n",
        "  "
      ],
      "id": "idcJNdxdGjaO"
    },
    {
      "cell_type": "code",
      "execution_count": null,
      "metadata": {
        "colab": {
          "base_uri": "https://localhost:8080/",
          "height": 215
        },
        "id": "V07mYm1RJ8ls",
        "outputId": "85453cad-c2d5-4052-f723-d1c424315e18"
      },
      "outputs": [
        {
          "output_type": "error",
          "ename": "NameError",
          "evalue": "ignored",
          "traceback": [
            "\u001b[0;31m---------------------------------------------------------------------------\u001b[0m",
            "\u001b[0;31mNameError\u001b[0m                                 Traceback (most recent call last)",
            "\u001b[0;32m<ipython-input-1-d62ac4d4e9d2>\u001b[0m in \u001b[0;36m<module>\u001b[0;34m()\u001b[0m\n\u001b[0;32m----> 1\u001b[0;31m \u001b[0mavg00\u001b[0m \u001b[0;34m=\u001b[0m \u001b[0mnp\u001b[0m\u001b[0;34m.\u001b[0m\u001b[0mmean\u001b[0m\u001b[0;34m(\u001b[0m\u001b[0mcorrmat00\u001b[0m\u001b[0;34m,\u001b[0m \u001b[0maxis\u001b[0m\u001b[0;34m=\u001b[0m\u001b[0;36m1\u001b[0m\u001b[0;34m)\u001b[0m\u001b[0;34m\u001b[0m\u001b[0;34m\u001b[0m\u001b[0m\n\u001b[0m\u001b[1;32m      2\u001b[0m \u001b[0mplt\u001b[0m\u001b[0;34m.\u001b[0m\u001b[0mplot\u001b[0m\u001b[0;34m(\u001b[0m\u001b[0mnp\u001b[0m\u001b[0;34m.\u001b[0m\u001b[0marange\u001b[0m\u001b[0;34m(\u001b[0m\u001b[0;34m-\u001b[0m\u001b[0;36m100\u001b[0m\u001b[0;34m,\u001b[0m\u001b[0;36m100\u001b[0m\u001b[0;34m)\u001b[0m\u001b[0;34m,\u001b[0m\u001b[0mavg00\u001b[0m\u001b[0;34m[\u001b[0m\u001b[0;36m50_000\u001b[0m\u001b[0;34m:\u001b[0m\u001b[0;36m70_000\u001b[0m\u001b[0;34m:\u001b[0m\u001b[0;36m100\u001b[0m\u001b[0;34m]\u001b[0m\u001b[0;34m)\u001b[0m\u001b[0;34m\u001b[0m\u001b[0;34m\u001b[0m\u001b[0m\n\u001b[1;32m      3\u001b[0m \u001b[0mplt\u001b[0m\u001b[0;34m.\u001b[0m\u001b[0mplot\u001b[0m\u001b[0;34m(\u001b[0m\u001b[0mnp\u001b[0m\u001b[0;34m.\u001b[0m\u001b[0marange\u001b[0m\u001b[0;34m(\u001b[0m\u001b[0;34m-\u001b[0m\u001b[0;36m100\u001b[0m\u001b[0;34m,\u001b[0m\u001b[0;36m100\u001b[0m\u001b[0;34m)\u001b[0m\u001b[0;34m,\u001b[0m \u001b[0my\u001b[0m\u001b[0;34m)\u001b[0m\u001b[0;34m\u001b[0m\u001b[0;34m\u001b[0m\u001b[0m\n\u001b[1;32m      4\u001b[0m \u001b[0mplt\u001b[0m\u001b[0;34m.\u001b[0m\u001b[0mshow\u001b[0m\u001b[0;34m(\u001b[0m\u001b[0;34m)\u001b[0m\u001b[0;34m\u001b[0m\u001b[0;34m\u001b[0m\u001b[0m\n",
            "\u001b[0;31mNameError\u001b[0m: name 'np' is not defined"
          ]
        }
      ],
      "source": [
        "avg00 = np.mean(corrmat00, axis=1)\n",
        "plt.plot(np.arange(-100,100),avg00[50_000:70_000:100])\n",
        "plt.plot(np.arange(-100,100), y)\n",
        "plt.show()"
      ],
      "id": "V07mYm1RJ8ls"
    },
    {
      "cell_type": "code",
      "source": [
        ""
      ],
      "metadata": {
        "id": "Rhe8jnGZcpWS"
      },
      "id": "Rhe8jnGZcpWS",
      "execution_count": null,
      "outputs": []
    }
  ],
  "metadata": {
    "colab": {
      "name": "Theory & sims - 3 unit model.ipynb",
      "provenance": []
    },
    "kernelspec": {
      "display_name": "Python 3 (ipykernel)",
      "language": "python",
      "name": "python3"
    },
    "language_info": {
      "codemirror_mode": {
        "name": "ipython",
        "version": 3
      },
      "file_extension": ".py",
      "mimetype": "text/x-python",
      "name": "python",
      "nbconvert_exporter": "python",
      "pygments_lexer": "ipython3",
      "version": "3.9.7"
    }
  },
  "nbformat": 4,
  "nbformat_minor": 5
}
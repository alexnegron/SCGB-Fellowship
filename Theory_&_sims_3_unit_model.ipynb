{
 "cells": [
  {
   "cell_type": "code",
   "execution_count": 1,
   "id": "703ed953-2493-4ab6-bd48-085a407d3fa9",
   "metadata": {
    "colab": {
     "base_uri": "https://localhost:8080/"
    },
    "id": "703ed953-2493-4ab6-bd48-085a407d3fa9",
    "outputId": "be53bed6-201c-4e6b-d895-eed315e85b2c",
    "tags": []
   },
   "outputs": [],
   "source": [
    "import numpy as np\n",
    "from statsmodels.tsa.stattools import ccovf\n",
    "from statsmodels.tsa.stattools import ccf\n",
    "from scipy.linalg import solve_continuous_lyapunov\n",
    "from numba import jit\n",
    "from scipy import signal\n",
    "from scipy.linalg import expm\n",
    "import matplotlib.pyplot as plt\n",
    "from matplotlib.colors import Normalize\n",
    "import matplotlib.cm as cm"
   ]
  },
  {
   "cell_type": "code",
   "execution_count": 2,
   "id": "847b327d-915e-4bdd-9b4c-7a04eaf00dcf",
   "metadata": {
    "id": "847b327d-915e-4bdd-9b4c-7a04eaf00dcf",
    "tags": []
   },
   "outputs": [],
   "source": [
    "def threshlin(I, k):\n",
    "    return k*np.maximum(I, 0)\n",
    "\n",
    "def d_threshlin(I, k):\n",
    "    return k*(np.maximum(I, 0) / np.abs(I))\n",
    "\n",
    "def correlation_from_covariance(covariance):\n",
    "    v = np.sqrt(np.diag(covariance))\n",
    "    outer_v = np.outer(v, v)\n",
    "    correlation = covariance / outer_v\n",
    "    correlation[covariance == 0] = 0\n",
    "    return correlation"
   ]
  },
  {
   "cell_type": "code",
   "execution_count": 1399,
   "id": "68cb675e-3206-471e-bc20-7835ce8c91b7",
   "metadata": {
    "id": "68cb675e-3206-471e-bc20-7835ce8c91b7"
   },
   "outputs": [],
   "source": [
    "def theory_cov(N, k, s, r_ss, W, c_ne, c_ni, tau_n, tau):\n",
    "    sgn = np.block([\n",
    "        [np.ones((3*N,N)), np.ones((3*N,N)), -np.ones((3*N,N))]\n",
    "    ])\n",
    "    \n",
    "    c_n = np.diagflat(np.block([\n",
    "        [np.full((N,1), c_ne)],\n",
    "        [np.full((N,1), c_ne)],\n",
    "        [np.full((N,1), c_ni)]\n",
    "    ]))\n",
    "    \n",
    "    L = np.diagflat(d_threshlin(s + (sgn*W)@r_ss, k))\n",
    "    LW = L@(sgn*W)\n",
    "    Eye = np.eye(3*N)\n",
    "    \n",
    "    M = (1/tau)*(-Eye + LW)\n",
    "    Minv = np.linalg.inv(M)\n",
    "    \n",
    "    D = c_n@L\n",
    "    D = (1/tau)*np.sqrt(2*tau_n)*D\n",
    "    \n",
    "    Sigma = Minv @ D @ ((Minv@D).T)\n",
    "    \n",
    "    return Sigma"
   ]
  },
  {
   "cell_type": "code",
   "execution_count": 1400,
   "id": "1aa45f7e-f013-47a0-93ee-e79c09e9edb2",
   "metadata": {
    "id": "1aa45f7e-f013-47a0-93ee-e79c09e9edb2"
   },
   "outputs": [],
   "source": [
    "def model(t0, T, dt, N, tau_E, tau_I, tau_n, c_ne, c_ni, J_EE, J_II, J_EI, J_IE, k, s, a, b):\n",
    "    r1 = np.zeros((N,1))\n",
    "    r2 = np.zeros((N,1))\n",
    "    rI = np.zeros((N,1))\n",
    "    \n",
    "    # matrices to store firing rates as row and time as column\n",
    "    R_ss = np.zeros((3*N, 1))\n",
    "    R_n = np.zeros((3*N, 1))\n",
    "    \n",
    "    xs = np.linspace(0, N-1, N)\n",
    "\n",
    "    W_E1E1 = W_E2E2 = J_EE\n",
    "    W_IE1 = W_IE2 = J_IE\n",
    "    W_E1I = W_E2I = J_EI\n",
    "    W_II = J_II\n",
    "    \n",
    "    W_E1E2 = b*W_E2E2\n",
    "    W_E2E1 = a*W_E1E1\n",
    "    \n",
    "    W = np.block([\n",
    "        [W_E1E1, W_E1E2, W_E1I],\n",
    "        [W_E2E1, W_E2E2, W_E2I],\n",
    "        [W_IE1, W_IE2, W_II]\n",
    "    ])\n",
    "    \n",
    "    sgn = np.block([\n",
    "        [np.ones((3*N,N)), np.ones((3*N,N)), -np.ones((3*N,N))]\n",
    "    ])\n",
    "    \n",
    "    s = np.block([\n",
    "        [s],\n",
    "        [s],\n",
    "        [s]\n",
    "    ])\n",
    "    \n",
    "    r_n = np.zeros((3*N,1))\n",
    "    r_ss = np.zeros((3*N,1))\n",
    "    \n",
    "    \n",
    "    # initial inputs \n",
    "    Id = s + (sgn*W)@r_ss\n",
    "    In = s + (sgn*W)@r_n\n",
    "    \n",
    "    \n",
    "    # smoothed noise process \n",
    "    eta = np.zeros((3*N, 1))\n",
    "    x1 = np.zeros((3*N,1))\n",
    "    # vector of E/I timescales \n",
    "    tau = np.block([\n",
    "        [np.full((N,1), tau_E)],\n",
    "        [np.full((N,1), tau_E)],\n",
    "        [np.full((N,1), tau_I)]\n",
    "    ])\n",
    "    \n",
    "    # vector of noise magnitudes\n",
    "    c_n = np.block([\n",
    "        [np.full((N,1), c_ne)],\n",
    "        [np.full((N,1), c_ne)],\n",
    "        [np.full((N,1), c_ni)]\n",
    "    ])\n",
    "    \n",
    "    M = int(T/dt)\n",
    "    ts = np.arange(M+1)\n",
    "    \n",
    "    #print(M)\n",
    "    for m in range(M):\n",
    "    # deterministic sim\n",
    "        r_ss += (dt*(1/tau))*(-r_ss + threshlin(Id, k))\n",
    "        Id = s + (sgn*W)@r_ss\n",
    "        R_ss = np.c_[R_ss, r_ss]\n",
    "    # noise sim\n",
    "        #x = np.random.randn(3*N,1)\n",
    "        x1 = np.random.normal(scale=np.sqrt(dt), size=(3,1))\n",
    "        #eta += (1/tau_n) * (-eta*dt + np.sqrt(2*tau_n*dt)*x) # smoothed noise\n",
    "        #r_n += dt*(1/tau)*(-r_n + threshlin(In + c_n*eta,k))\n",
    "        r_n += dt*(1/tau)*(-r_n + threshlin(In + c_n*x1, k))\n",
    "        In = s + (sgn*W)@r_n \n",
    "        R_n = np.c_[R_n, r_n]\n",
    "        \n",
    "    return r_ss, r_n, R_ss, R_n, W, s, sgn, xs, ts, c_ne, c_ni, tau_n\n",
    "    "
   ]
  },
  {
   "cell_type": "markdown",
   "id": "5b59f946-3550-41bf-a23f-cde7f84468e9",
   "metadata": {},
   "source": [
    "#### White noise"
   ]
  },
  {
   "cell_type": "code",
   "execution_count": 1427,
   "id": "37ce5596-7fa8-455b-a3ff-22d7880da50e",
   "metadata": {
    "jupyter": {
     "source_hidden": true
    },
    "tags": []
   },
   "outputs": [
    {
     "data": {
      "image/png": "[encoded data removed]",
      "text/plain": [
       "<Figure size 432x288 with 1 Axes>"
      ]
     },
     "metadata": {
      "needs_background": "light"
     },
     "output_type": "display_data"
    }
   ],
   "source": [
    "T = 10\n",
    "dt = 0.01\n",
    "M = int(T/dt)\n",
    "\n",
    "lst = [np.random.normal(scale=np.sqrt(2*dt)) for t in range(M)]\n",
    "\n",
    "plt.plot(lst)\n",
    "plt.show()"
   ]
  },
  {
   "cell_type": "markdown",
   "id": "8b37c59c-dfe8-45a8-b26b-98cde8a29b29",
   "metadata": {},
   "source": [
    "#### Smoothed white noise"
   ]
  },
  {
   "cell_type": "code",
   "execution_count": 1402,
   "id": "06c166cc-4254-4398-b7bc-7282b5214c7f",
   "metadata": {},
   "outputs": [
    {
     "data": {
      "image/png": "[encoded data removed]",
      "text/plain": [
       "<Figure size 432x288 with 1 Axes>"
      ]
     },
     "metadata": {
      "needs_background": "light"
     },
     "output_type": "display_data"
    }
   ],
   "source": [
    "T = 10\n",
    "dt = 0.01\n",
    "N = 1\n",
    "M = int(T/dt)\n",
    "ts = np.arange(M+1)\n",
    "eta = 0\n",
    "etas = []\n",
    "#print(M)\n",
    "for m in range(M):\n",
    "# noise sim\n",
    "    x = np.random.randn()\n",
    "    eta += (1/tau_n) * (-eta*dt + np.sqrt(2*tau_n*dt)*x) # smoothed noise  \n",
    "    etas.append(eta)\n",
    "\n",
    "plt.plot(etas)\n",
    "plt.show()"
   ]
  },
  {
   "cell_type": "markdown",
   "id": "726e69e4-11f4-4626-a43f-ec4d896647a8",
   "metadata": {
    "id": "726e69e4-11f4-4626-a43f-ec4d896647a8"
   },
   "source": [
    "# Simulation"
   ]
  },
  {
   "cell_type": "code",
   "execution_count": 1403,
   "id": "1d9e3f3c-2f36-4ecb-8a0d-d33f7f570809",
   "metadata": {
    "id": "1d9e3f3c-2f36-4ecb-8a0d-d33f7f570809"
   },
   "outputs": [],
   "source": [
    "r_ss, r_n, R_ss, R_n, W, s, sgn, xs, ts, sigE, sigI, tau_n = model(t0=0, \n",
    "                                                     T=800, \n",
    "                                                     dt=0.01, \n",
    "                                                     N=1, \n",
    "                                                     tau_E=15, \n",
    "                                                     tau_I=15, \n",
    "                                                     tau_n=1, \n",
    "                                                     c_ne=1, \n",
    "                                                     c_ni=1, \n",
    "                                                           \n",
    "                                                     J_EE=.5, \n",
    "                                                     J_II=.5, \n",
    "                                                     J_EI=.5, \n",
    "                                                     J_IE=.5,\n",
    "                                                           \n",
    "                                                     k = 1, \n",
    "                                                     s = 15,\n",
    "                                                     a = 0.3,\n",
    "                                                     b = 0.3 )"
   ]
  },
  {
   "cell_type": "markdown",
   "id": "1fa1da6f-4814-495c-878a-58392041be31",
   "metadata": {
    "id": "1fa1da6f-4814-495c-878a-58392041be31"
   },
   "source": [
    "## Sample paths"
   ]
  },
  {
   "cell_type": "code",
   "execution_count": 1404,
   "id": "f8fc35e6-82b4-4bf0-91de-d7661af7dba7",
   "metadata": {
    "colab": {
     "base_uri": "https://localhost:8080/",
     "height": 265
    },
    "id": "f8fc35e6-82b4-4bf0-91de-d7661af7dba7",
    "outputId": "25523fca-f198-49d4-afd2-7bde1008a9c9"
   },
   "outputs": [
    {
     "data": {
      "image/png": "[encoded data removed]",
      "text/plain": [
       "<Figure size 432x288 with 1 Axes>"
      ]
     },
     "metadata": {
      "needs_background": "light"
     },
     "output_type": "display_data"
    }
   ],
   "source": [
    "plt.plot(R_n[0,:], color='red', linestyle='--', alpha=.55)\n",
    "plt.plot(R_ss[0,:], color='red')\n",
    "\n",
    "plt.plot(R_n[1,:], color='orange', linestyle='--', alpha=.55)\n",
    "plt.plot(R_ss[1,:], color='orange')\n",
    "\n",
    "plt.plot(R_n[2,:], color='b', linestyle='--', alpha=.4)\n",
    "plt.plot(R_ss[2,:], color='b')\n",
    "\n",
    "plt.show()"
   ]
  },
  {
   "cell_type": "markdown",
   "id": "1807defd-db7d-44c4-89da-cd35859024c2",
   "metadata": {
    "id": "1807defd-db7d-44c4-89da-cd35859024c2"
   },
   "source": [
    "Clip transient:"
   ]
  },
  {
   "cell_type": "code",
   "execution_count": 1405,
   "id": "HnmSph6tsFt2",
   "metadata": {
    "id": "HnmSph6tsFt2"
   },
   "outputs": [],
   "source": [
    "R_n = R_n[:, 20_000:]\n",
    "R_ss = R_ss[:, 20_000:]"
   ]
  },
  {
   "cell_type": "code",
   "execution_count": 1406,
   "id": "977713bb-1001-41aa-afe6-f1d33e3a483d",
   "metadata": {
    "colab": {
     "base_uri": "https://localhost:8080/",
     "height": 265
    },
    "id": "977713bb-1001-41aa-afe6-f1d33e3a483d",
    "outputId": "b7588e8e-050c-4fd9-ffb4-a2b2f37024f5"
   },
   "outputs": [
    {
     "data": {
      "image/png": "[encoded data removed]",
      "text/plain": [
       "<Figure size 432x288 with 1 Axes>"
      ]
     },
     "metadata": {
      "needs_background": "light"
     },
     "output_type": "display_data"
    }
   ],
   "source": [
    "plt.plot(R_n[0,:], color='red', linestyle='--', alpha=.55)\n",
    "plt.plot(R_ss[0,:], color='red')\n",
    "\n",
    "plt.plot(R_n[1,:], color='orange', linestyle='--', alpha=.55)\n",
    "plt.plot(R_ss[1,:], color='orange')\n",
    "\n",
    "plt.plot(R_n[2,:], color='b', linestyle='--', alpha=.4)\n",
    "plt.plot(R_ss[2,:], color='b')\n",
    "\n",
    "plt.show()\n",
    "plt.show()\n",
    "plt.show()"
   ]
  },
  {
   "cell_type": "markdown",
   "id": "02a43396-e10a-40b4-923b-25eedf6f1f37",
   "metadata": {
    "id": "02a43396-e10a-40b4-923b-25eedf6f1f37"
   },
   "source": [
    "# Theoretical stationary cross-covariance function"
   ]
  },
  {
   "cell_type": "markdown",
   "id": "9850f71c-9be8-46ae-999c-282ac1e3b4be",
   "metadata": {
    "id": "9850f71c-9be8-46ae-999c-282ac1e3b4be"
   },
   "source": [
    "Flucutations $\\delta \\mathbf{r}$ about the steady state rate $\\overline{\\mathbf{r}}$ solve the linearized equation\n",
    "\n",
    "$$\n",
    "    \\delta \\mathbf{\\dot{r}} = M \\delta \\mathbf{r} + D \\mathbf{x}\n",
    "$$\n",
    "\n",
    "Theoretical stationary cross-covariance function is computed:\n",
    "\n",
    "$$ \n",
    "\\tilde{C}(s) := \\langle \\delta \\mathbf{r}_i(t), \\delta \\mathbf{r}_j(t+s) \\rangle \n",
    "=\n",
    "\\begin{cases}\n",
    "    \\exp\\left(Ms\\right)\\cdot \\Sigma, & s > 0 \\\\\n",
    "    \\Sigma \\cdot \\exp\\left(-M^\\top s\\right), & s \\leq 0\n",
    "\\end{cases}\n",
    "$$\n",
    "\n",
    "where $\\Sigma$ is the solution to the Lyapunov equation\n",
    "\n",
    "$$\n",
    "(-M)\\Sigma + \\Sigma (-M^\\top) = DD^\\top\n",
    "$$"
   ]
  },
  {
   "cell_type": "code",
   "execution_count": 1407,
   "id": "6d11e3cd-c462-4643-8c9f-004c2575a973",
   "metadata": {
    "id": "6d11e3cd-c462-4643-8c9f-004c2575a973"
   },
   "outputs": [],
   "source": [
    "def stationary_acovf(lags, M, sigma):\n",
    "    nonpos_lags = lags[lags<=0]\n",
    "    pos_lags = lags[lags>0]\n",
    "    \n",
    "    arr1 = [sigma @ expm((-M.T)*s) for s in nonpos_lags]\n",
    "    arr2 = [expm(M*s) @ sigma for s in pos_lags]\n",
    "\n",
    "    return np.append(arr1,arr2, axis=0)"
   ]
  },
  {
   "cell_type": "code",
   "execution_count": 1411,
   "id": "80ebc15b-fa67-429f-b750-08ffcf02c787",
   "metadata": {
    "id": "80ebc15b-fa67-429f-b750-08ffcf02c787"
   },
   "outputs": [],
   "source": [
    "k=1\n",
    "N=1\n",
    "tau = 15\n",
    "L = np.diagflat(d_threshlin(s + (sgn*W)@r_ss, k))\n",
    "LW = L@(sgn*W)\n",
    "Eye = np.eye(3*N)\n",
    "M = (1/tau)*(-Eye + LW) # note the 1/tau\n",
    "\n",
    "c_n = np.diagflat(np.block([\n",
    "        [np.full((N,1), sigE)],\n",
    "        [np.full((N,1), sigE)],\n",
    "        [np.full((N,1), sigI)]\n",
    "    ]))\n",
    "\n",
    "D = c_n@L\n",
    "D = (1/tau)*np.sqrt(2*tau_n)*D # note the 1/tau\n",
    "#D = (1/tau)*D\n",
    "\n",
    "sigma = solve_continuous_lyapunov(-M, D@(D.T))"
   ]
  },
  {
   "cell_type": "code",
   "execution_count": 1423,
   "id": "8963b0ae-fc6f-4a4f-b168-8d7785874f73",
   "metadata": {},
   "outputs": [],
   "source": [
    "lags1 = np.arange(-200,200)\n",
    "dt = 0.01\n",
    "tau=15\n",
    "acf = stationary_acovf(lags1, M, sigma)\n",
    "y = [x[0,0] for x in acf]"
   ]
  },
  {
   "cell_type": "code",
   "execution_count": 1424,
   "id": "76889c5a-478e-43e7-8a92-e2e0572f94ab",
   "metadata": {},
   "outputs": [
    {
     "data": {
      "image/png": "[encoded data removed]",
      "text/plain": [
       "<Figure size 432x288 with 1 Axes>"
      ]
     },
     "metadata": {
      "needs_background": "light"
     },
     "output_type": "display_data"
    }
   ],
   "source": [
    "plt.plot(lags1, y)\n",
    "plt.show()"
   ]
  },
  {
   "cell_type": "code",
   "execution_count": 1425,
   "id": "7PztJMD73u7K",
   "metadata": {
    "colab": {
     "base_uri": "https://localhost:8080/"
    },
    "id": "7PztJMD73u7K",
    "outputId": "ad0ee487-4080-42b2-d1b1-42e4e6c9bf41"
   },
   "outputs": [
    {
     "data": {
      "text/plain": [
       "4.984672764558618"
      ]
     },
     "execution_count": 1425,
     "metadata": {},
     "output_type": "execute_result"
    }
   ],
   "source": [
    "np.trapz(y)"
   ]
  },
  {
   "cell_type": "code",
   "execution_count": 1426,
   "id": "196d8274-7bb9-48b7-821c-f1eee5869f27",
   "metadata": {},
   "outputs": [
    {
     "data": {
      "text/plain": [
       "array([[4.98435349, 0.25062568, 1.09458656],\n",
       "       [0.25062568, 4.98435349, 1.09458656],\n",
       "       [1.09458656, 1.09458656, 1.18500892]])"
      ]
     },
     "execution_count": 1426,
     "metadata": {},
     "output_type": "execute_result"
    }
   ],
   "source": [
    "theory_cov(N=1, k=1, s=15, r_ss=r_ss, W=W, c_ne=sigE, c_ni=sigI, tau_n=1, tau=15)"
   ]
  },
  {
   "cell_type": "code",
   "execution_count": 1420,
   "id": "afff64fd-5be3-4141-922b-66041b41a242",
   "metadata": {
    "id": "afff64fd-5be3-4141-922b-66041b41a242"
   },
   "outputs": [],
   "source": [
    "def xcov(x,y):\n",
    "    xbar = np.mean(x)\n",
    "    ybar = np.mean(y)\n",
    "    n = len(x)\n",
    "    d = np.arange(n)\n",
    "    k = np.append(d[::-1], d[1:])\n",
    "    \n",
    "    return signal.correlate(x-xbar, y-ybar, mode='full', method='fft')/(n-k)"
   ]
  },
  {
   "cell_type": "code",
   "execution_count": 1421,
   "id": "1858cff4-c1c1-49a7-9f22-d14775b6b0eb",
   "metadata": {},
   "outputs": [
    {
     "data": {
      "image/png": "[encoded data removed]",
      "text/plain": [
       "<Figure size 432x288 with 1 Axes>"
      ]
     },
     "metadata": {
      "needs_background": "light"
     },
     "output_type": "display_data"
    }
   ],
   "source": [
    "plt.plot(xcov(R_n[0,:], R_n[0,:])[40_000:80_000])\n",
    "plt.show()"
   ]
  },
  {
   "cell_type": "code",
   "execution_count": 1422,
   "id": "2a29487d-f93d-451a-bcf8-525386e71959",
   "metadata": {},
   "outputs": [
    {
     "data": {
      "text/plain": [
       "0.0003696550448300506"
      ]
     },
     "execution_count": 1422,
     "metadata": {},
     "output_type": "execute_result"
    }
   ],
   "source": [
    "np.trapz(xcov(R_n[0,:], R_n[0,:])[40_000:80_000],dx=0.01)"
   ]
  },
  {
   "cell_type": "code",
   "execution_count": 1355,
   "id": "83081a37-2dbc-41c5-b974-655c6092a6ca",
   "metadata": {
    "colab": {
     "base_uri": "https://localhost:8080/",
     "height": 265
    },
    "id": "83081a37-2dbc-41c5-b974-655c6092a6ca",
    "outputId": "1f859a9f-c8cd-497d-da66-10190eb2df5c"
   },
   "outputs": [
    {
     "data": {
      "image/png": "[encoded data removed]",
      "text/plain": [
       "<Figure size 432x288 with 1 Axes>"
      ]
     },
     "metadata": {
      "needs_background": "light"
     },
     "output_type": "display_data"
    }
   ],
   "source": [
    "lags2 = np.linspace(-200,200,40_000)\n",
    "plt.plot(lags2,xcov(R_n[0,:], R_n[0,:])[40_000:80_000])\n",
    "plt.plot(lags1, y)\n",
    "plt.show()"
   ]
  },
  {
   "cell_type": "code",
   "execution_count": null,
   "id": "76e9eb93-89eb-4f8f-b6cc-0949f8fe0f8b",
   "metadata": {},
   "outputs": [],
   "source": []
  },
  {
   "cell_type": "code",
   "execution_count": null,
   "id": "ee4b9ea2-a809-4df8-b276-ef72324cb9dd",
   "metadata": {},
   "outputs": [],
   "source": []
  },
  {
   "cell_type": "code",
   "execution_count": null,
   "id": "0f57ed49-01f5-42b6-9c62-08763d9f4ed8",
   "metadata": {},
   "outputs": [],
   "source": []
  },
  {
   "cell_type": "code",
   "execution_count": null,
   "id": "4cc3d401-c5d3-4549-8c08-cb3d99755417",
   "metadata": {},
   "outputs": [],
   "source": []
  },
  {
   "cell_type": "code",
   "execution_count": null,
   "id": "153a7295-3b68-4d14-b73b-1beecb522e54",
   "metadata": {},
   "outputs": [],
   "source": []
  },
  {
   "cell_type": "code",
   "execution_count": null,
   "id": "1fb37872-3ec5-4caf-89cb-361e7211041c",
   "metadata": {},
   "outputs": [],
   "source": []
  },
  {
   "cell_type": "code",
   "execution_count": 713,
   "id": "idcJNdxdGjaO",
   "metadata": {
    "colab": {
     "base_uri": "https://localhost:8080/"
    },
    "id": "idcJNdxdGjaO",
    "outputId": "1cc0578e-d88f-494a-b5ce-c118648bd6df",
    "tags": []
   },
   "outputs": [],
   "source": [
    "# initial\n",
    "\n",
    "corrmat00 = np.array([])\n",
    "corrmat01 = np.array([])\n",
    "corrmat02 = np.array([])\n",
    "corrmat11 = np.array([])\n",
    "corrmat22 = np.array([])\n",
    "corrmat12 = np.array([])\n",
    "\n",
    "r_ss, r_n, R_ss, R_n, W, s, sgn, xs, ts, sigE, sigI, tau_n = model(t0=0, \n",
    "                                                    T=800, \n",
    "                                                    dt=0.01, \n",
    "                                                    N=1, \n",
    "                                                    tau_E=15, \n",
    "                                                    tau_I=15, \n",
    "                                                    tau_n=1, \n",
    "                                                    c_ne=1, \n",
    "                                                    c_ni=1, \n",
    "                                                          \n",
    "                                                    J_EE=.5, \n",
    "                                                    J_II=.5, \n",
    "                                                    J_EI=.5, \n",
    "                                                    J_IE=.5,\n",
    "                                                          \n",
    "                                                    k = 1, \n",
    "                                                    s = 15,\n",
    "                                                    a = 0.1,\n",
    "                                                    b = 0.1 )\n",
    "R_n = R_n[:, 20_000:]\n",
    "R_ss = R_ss[:, 20_000:]  \n",
    "corrmat00 = xcov(R_n[0,:], R_n[0,:])\n",
    "corrmat11 = xcov(R_n[1,:], R_n[1,:])\n",
    "corrmat12 = xcov(R_n[1,:], R_n[2,:])\n",
    "corrmat01 = xcov(R_n[0,:], R_n[1,:])\n",
    "corrmat02 = xcov(R_n[0,:], R_n[2,:])\n",
    "corrmat22 = xcov(R_n[2,:], R_n[2,:])"
   ]
  },
  {
   "cell_type": "code",
   "execution_count": 721,
   "id": "a1d6d7b9-a5ee-42f1-9a69-b6588bedec5a",
   "metadata": {
    "tags": []
   },
   "outputs": [
    {
     "name": "stdout",
     "output_type": "stream",
     "text": [
      "0\n",
      "1\n",
      "2\n",
      "3\n",
      "4\n",
      "5\n",
      "6\n",
      "7\n",
      "8\n",
      "9\n",
      "10\n",
      "11\n",
      "12\n",
      "13\n",
      "14\n",
      "15\n",
      "16\n",
      "17\n",
      "18\n",
      "19\n",
      "20\n",
      "21\n",
      "22\n",
      "23\n",
      "24\n",
      "25\n",
      "26\n",
      "27\n",
      "28\n",
      "29\n",
      "30\n",
      "31\n",
      "32\n",
      "33\n",
      "34\n",
      "35\n",
      "36\n",
      "37\n",
      "38\n",
      "39\n",
      "40\n",
      "41\n",
      "42\n",
      "43\n",
      "44\n",
      "45\n",
      "46\n",
      "47\n",
      "48\n",
      "49\n",
      "50\n",
      "51\n",
      "52\n",
      "53\n",
      "54\n",
      "55\n",
      "56\n",
      "57\n",
      "58\n",
      "59\n",
      "60\n",
      "61\n",
      "62\n",
      "63\n",
      "64\n",
      "65\n",
      "66\n",
      "67\n",
      "68\n",
      "69\n",
      "70\n",
      "71\n",
      "72\n",
      "73\n",
      "74\n",
      "75\n",
      "76\n",
      "77\n",
      "78\n",
      "79\n",
      "80\n",
      "81\n",
      "82\n",
      "83\n",
      "84\n",
      "85\n",
      "86\n",
      "87\n",
      "88\n",
      "89\n",
      "90\n",
      "91\n",
      "92\n",
      "93\n",
      "94\n",
      "95\n",
      "96\n",
      "97\n",
      "98\n",
      "99\n"
     ]
    }
   ],
   "source": [
    "# adds to existing\n",
    "\n",
    "for sim in range(100):\n",
    "    print(sim)\n",
    "    r_ss, r_n, R_ss, R_n, W, s, sgn, xs, ts, sigE, sigI, tau_n = model(t0=0, \n",
    "                                                     T=800, \n",
    "                                                     dt=0.01, \n",
    "                                                     N=1, \n",
    "                                                     tau_E=15, \n",
    "                                                     tau_I=15, \n",
    "                                                     tau_n=1, \n",
    "                                                     c_ne=.5, \n",
    "                                                     c_ni=.5, \n",
    "\n",
    "                                                     J_EE=.5, \n",
    "                                                     J_II=.5, \n",
    "                                                     J_EI=.8, \n",
    "                                                     J_IE=.25,\n",
    "\n",
    "                                                     k = 1, \n",
    "                                                     s = 15,\n",
    "                                                     a = 0.1,\n",
    "                                                     b = 0.1 )\n",
    "    R_n = R_n[:, 20_000:]\n",
    "    R_ss = R_ss[:, 20_000:]\n",
    "\n",
    "    corrmat00 = np.c_[corrmat00, xcov(R_n[0,:], R_n[0,:])]\n",
    "    corrmat11 = np.c_[corrmat11, xcov(R_n[1,:], R_n[1,:])]\n",
    "    corrmat12 = np.c_[corrmat12, xcov(R_n[1,:], R_n[2,:])]\n",
    "    corrmat01 = np.c_[corrmat01, xcov(R_n[0,:], R_n[1,:])]\n",
    "    corrmat02 = np.c_[corrmat02, xcov(R_n[0,:], R_n[2,:])]\n",
    "    corrmat22 = np.c_[corrmat22, xcov(R_n[2,:], R_n[2,:])]"
   ]
  },
  {
   "cell_type": "code",
   "execution_count": 722,
   "id": "afb35987-645b-4d7e-b90b-57360d8fa1c7",
   "metadata": {},
   "outputs": [],
   "source": [
    "k=1\n",
    "N=1\n",
    "tau = 15\n",
    "L = np.diagflat(d_threshlin(s + (sgn*W)@r_ss, k))\n",
    "LW = L@(sgn*W)\n",
    "Eye = np.eye(3*N)\n",
    "M = (1/tau)*(-Eye + LW) # note the 1/tau\n",
    "\n",
    "c_n = np.diagflat(np.block([\n",
    "        [np.full((N,1), sigE)],\n",
    "        [np.full((N,1), sigE)],\n",
    "        [np.full((N,1), sigI)]\n",
    "    ]))\n",
    "D = c_n@L\n",
    "D = (1/tau)*np.sqrt(2*tau_n)*D # note the 1/tau\n",
    "\n",
    "sigma = solve_continuous_lyapunov(-M, D@(D.T))\n",
    "\n",
    "dt = 0.01\n",
    "tau=15\n",
    "\n",
    "acf = stationary_acovf(lags1, M, sigma, dt, tau)"
   ]
  },
  {
   "cell_type": "code",
   "execution_count": 723,
   "id": "8dee1559-fbe1-4c9f-a32e-8d2202365b82",
   "metadata": {},
   "outputs": [],
   "source": [
    "lags1 = np.arange(-200,200)\n",
    "lags2 = np.linspace(-200,200,40_000)\n",
    "\n",
    "avg00 = np.mean(corrmat00, axis=1)\n",
    "avg01 = np.mean(corrmat01, axis=1)\n",
    "avg02 = np.mean(corrmat02, axis=1)\n",
    "\n",
    "\n",
    "y1 = [x[0,0] for x in acf]\n",
    "y2 = [x[0,1] for x in acf]\n",
    "y3 = [x[0,2] for x in acf]"
   ]
  },
  {
   "cell_type": "code",
   "execution_count": 724,
   "id": "af42e6be-1d55-4123-bfc8-7ed9a71e90a3",
   "metadata": {},
   "outputs": [
    {
     "data": {
      "image/png": "[encoded data removed]",
      "text/plain": [
       "<Figure size 432x288 with 1 Axes>"
      ]
     },
     "metadata": {
      "needs_background": "light"
     },
     "output_type": "display_data"
    }
   ],
   "source": [
    "plt.plot(lags2, avg00[40_000:80_000])\n",
    "plt.plot(lags1, y1)\n",
    "plt.show()"
   ]
  },
  {
   "cell_type": "code",
   "execution_count": 725,
   "id": "e78f3554-a5a0-42a8-8afc-35be93263e77",
   "metadata": {},
   "outputs": [
    {
     "data": {
      "text/plain": [
       "array([[ 1.59010231, -0.06279025,  0.00648999],\n",
       "       [-0.06279025,  1.59010231,  0.00648999],\n",
       "       [ 0.00648999,  0.00648999,  0.14169822]])"
      ]
     },
     "execution_count": 725,
     "metadata": {},
     "output_type": "execute_result"
    }
   ],
   "source": [
    "theory_cov(N=1, k=1, s=15, r_ss=r_ss, W=W, c_ne=.5, c_ni=.5, tau_n=1, tau=15)"
   ]
  },
  {
   "cell_type": "code",
   "execution_count": 728,
   "id": "fe0641a5-9017-49f6-9b7a-c3c8fef85a05",
   "metadata": {},
   "outputs": [
    {
     "data": {
      "text/plain": [
       "0.528663590960266"
      ]
     },
     "execution_count": 728,
     "metadata": {},
     "output_type": "execute_result"
    }
   ],
   "source": [
    "np.trapz(avg00[40_000:80_000], dx=0.01)"
   ]
  },
  {
   "cell_type": "code",
   "execution_count": 729,
   "id": "6bc014bb-b86c-4ed0-8c5d-8d78ba1cafb8",
   "metadata": {},
   "outputs": [
    {
     "data": {
      "text/plain": [
       "1.5897387030524772"
      ]
     },
     "execution_count": 729,
     "metadata": {},
     "output_type": "execute_result"
    }
   ],
   "source": [
    "np.trapz(y1)"
   ]
  },
  {
   "cell_type": "code",
   "execution_count": null,
   "id": "c377f8df-fabf-4f4d-bc09-29cd2d9f7350",
   "metadata": {},
   "outputs": [],
   "source": []
  },
  {
   "cell_type": "code",
   "execution_count": null,
   "id": "2ecabb36-a0ad-4206-98ed-75ad8c9f404a",
   "metadata": {},
   "outputs": [],
   "source": []
  },
  {
   "cell_type": "code",
   "execution_count": 730,
   "id": "90487e16-0507-4fe6-a727-7c90ce8410ff",
   "metadata": {},
   "outputs": [
    {
     "data": {
      "image/png": "[encoded data removed]",
      "text/plain": [
       "<Figure size 432x288 with 1 Axes>"
      ]
     },
     "metadata": {
      "needs_background": "light"
     },
     "output_type": "display_data"
    }
   ],
   "source": [
    "plt.plot(lags2, avg01[40_000:80_000])\n",
    "plt.plot(lags1, y2)\n",
    "plt.show()"
   ]
  },
  {
   "cell_type": "code",
   "execution_count": 731,
   "id": "8a0661d2-3edc-4e07-8104-39f9d17da5b4",
   "metadata": {},
   "outputs": [
    {
     "data": {
      "text/plain": [
       "-0.06223876273789056"
      ]
     },
     "execution_count": 731,
     "metadata": {},
     "output_type": "execute_result"
    }
   ],
   "source": [
    "np.trapz(y2)"
   ]
  },
  {
   "cell_type": "code",
   "execution_count": 732,
   "id": "4c1d32ec-8e61-4660-9243-d2ddbab339d9",
   "metadata": {},
   "outputs": [
    {
     "data": {
      "text/plain": [
       "0.17292682226820666"
      ]
     },
     "execution_count": 732,
     "metadata": {},
     "output_type": "execute_result"
    }
   ],
   "source": [
    "np.trapz(2*avg01[50_000:70_000], dx=0.01)"
   ]
  },
  {
   "cell_type": "code",
   "execution_count": 733,
   "id": "04d09dfc-d479-41a6-8574-8eace14f887d",
   "metadata": {},
   "outputs": [
    {
     "data": {
      "image/png": "[encoded data removed]",
      "text/plain": [
       "<Figure size 432x288 with 1 Axes>"
      ]
     },
     "metadata": {
      "needs_background": "light"
     },
     "output_type": "display_data"
    }
   ],
   "source": [
    "plt.plot(lags2, avg02[40_000:80_000])\n",
    "plt.plot(lags1, y3)\n",
    "plt.show()"
   ]
  },
  {
   "cell_type": "code",
   "execution_count": null,
   "id": "221dbfed-fcd7-4d4d-ab75-603b7ffa9ba0",
   "metadata": {},
   "outputs": [],
   "source": []
  },
  {
   "cell_type": "code",
   "execution_count": null,
   "id": "5b0c22ea-f16f-4270-9839-ae84b7f14bb2",
   "metadata": {},
   "outputs": [],
   "source": []
  },
  {
   "cell_type": "code",
   "execution_count": null,
   "id": "db676d9b-8503-4177-b8f8-dd6747bbedb5",
   "metadata": {},
   "outputs": [],
   "source": []
  },
  {
   "cell_type": "code",
   "execution_count": null,
   "id": "8dca1bd1-55b2-4471-bf6c-bc6f799f58e3",
   "metadata": {},
   "outputs": [],
   "source": []
  }
 ],
 "metadata": {
  "colab": {
   "name": "Theory & sims - 3 unit model.ipynb",
   "provenance": []
  },
  "kernelspec": {
   "display_name": "Python 3 (ipykernel)",
   "language": "python",
   "name": "python3"
  },
  "language_info": {
   "codemirror_mode": {
    "name": "ipython",
    "version": 3
   },
   "file_extension": ".py",
   "mimetype": "text/x-python",
   "name": "python",
   "nbconvert_exporter": "python",
   "pygments_lexer": "ipython3",
   "version": "3.9.7"
  }
 },
 "nbformat": 4,
 "nbformat_minor": 5
}

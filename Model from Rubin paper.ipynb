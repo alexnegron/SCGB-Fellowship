{
 "cells": [
  {
   "cell_type": "code",
   "execution_count": 6,
   "metadata": {},
   "outputs": [],
   "source": [
    "import numpy as np\n",
    "import matplotlib.pyplot as plt\n",
    "import pandas as pd\n",
    "from scipy.integrate import odeint"
   ]
  },
  {
   "cell_type": "code",
   "execution_count": 7,
   "metadata": {},
   "outputs": [],
   "source": [
    "# parameters \n",
    "N = 180 # number of I & E neurons\n",
    "xs = np.linspace(1, 180, N) # angle positions in deg\n",
    "\n",
    "tau_E = 20 #ms\n",
    "tau_I = 10 #ms\n",
    "\n",
    "J_EE = 0.044 \n",
    "J_IE = 0.042\n",
    "J_EI = 0.023\n",
    "J_II = 0.018\n",
    "\n",
    "sigma_ori = 32\n",
    "sigma_FF = 30\n",
    "phi = 35 # stimulus grating angle, paper uses Stimulus 1 = 35deg, Stimulus 2 = 135deg\n",
    "\n",
    "k = 0.04\n",
    "n = 2.0\n",
    "\n",
    "c = 50 # stimulus strength"
   ]
  },
  {
   "cell_type": "markdown",
   "metadata": {},
   "source": [
    " - $G_\\sigma(x,y) = \\exp\\{-d(x,y)^2/\\sigma^2\\}$, where $d(x,y)=|x-y|$ for positions, and for orientations, $d(x,y) = $ shortest distance around circle with $180^\\circ$ circumference between $x$ and $y$\n",
    " - $N$ excitatory units and $N$ inhibitory units\n",
    " - Stimulus grating with orientation $\\phi$ is $h(\\theta) = G_{\\sigma_{\\text{FF}}}(\\phi, \\theta)$\n",
    " - Connection functions are $W_{ab} = J_{ab} G_{\\sigma_{\\text{ori}}}(\\theta, \\theta')$ for $a,b \\in \\{E, I\\}.$\n",
    " \n",
    " We implement the Euler method for solving this system.\n",
    " \n",
    " \\begin{align*}\n",
    "     r_E^{m+1}(x) &= r_E^m(x) + \\Delta t \\frac{1}{\\tau_E}\\left(-r_E^m(x) + F_E^m(x) \\right) \\\\\n",
    "     r_I^{m+1}(x) &= r_I^m(x) + \\Delta t \\frac{1}{\\tau_I}\\left(-r_I^m(x) + F_I^m(x) \\right)\n",
    " \\end{align*}\n",
    " where \n",
    " \\begin{align*}\n",
    "     F_E^m(x) &= k\\left(\\left[ch(x) +  \\sum_{y}(J_{EE}G_{\\sigma_{\\text{ori}}}(x,y)r_E^m(y) + J_{EI}G_{\\sigma_{\\text{ori}}}(x,y)r_I^m(y)) \\right]_+  \\right)^n \\\\\n",
    "     F_I^m(x) &= k\\left(\\left[ch(x) +  \\sum_{y}(J_{IE}G_{\\sigma_{\\text{ori}}}(x,y)r_E^m(y) + J_{II}G_{\\sigma_{\\text{ori}}}(x,y)r_I^m(y)) \\right]_+ \\right)^n\n",
    " \\end{align*}\n",
    " \n",
    " with the sums running over all orientations $y$."
   ]
  },
  {
   "cell_type": "code",
   "execution_count": 8,
   "metadata": {},
   "outputs": [],
   "source": [
    "def G(x, y, sigma): # Gaussian function centered at y\n",
    "    return np.exp(-np.power(x - y, 2.) / (2 * np.power(sigma, 2.)))\n",
    "\n",
    "def h(phi, theta, sigma_FF): # stimulus of orientation phi\n",
    "    return G(phi, theta, sigma_FF)\n",
    "\n",
    "def F(x, n_type): # activation function, depends on neuron type n_type = I, E\n",
    "    if n_type=='E':\n",
    "        sumlst = [J_EE*G(x,y,sigma_ori)*r_E[m,y] + J_EI*G(x,y,sigma_ori)*r_I[m,y] for y in range(N)]\n",
    "        ret = k*(np.max(c*h(phi,x,sigma_FF)+np.sum(sumlst), 0))**n\n",
    "    elif n_type=='I':\n",
    "        sumlst = [J_IE*G(x,y,sigma_ori)*r_E[m,y] + J_II*G(x,y,sigma_ori)*r_I[m,y] for y in range(N)]\n",
    "        ret = k*(np.max(c*h(phi,x,sigma_FF)+np.sum(sumlst), 0))**n\n",
    "    return ret"
   ]
  },
  {
   "cell_type": "markdown",
   "metadata": {},
   "source": [
    "Idea:\n",
    " - $r_E = (r_E^m(x))_{\\text{steps} \\times N}$ is a (steps)$\\times N$ matrix whose entry at the $m$-th row, $x$-th column corresponds to the $m$-th timestep calculuation of rate $r_E(x)$ of the E neuron at position $x$\n",
    " - $r_I = (r_I^m(x))_{\\text{steps} \\times N}$ is a (steps)$\\times N$ matrix whose entry at the $m$-th row, $x$-th column corresponds to the $m$-th timestep calculuation of rate $r_I(x)$ of the I neuron at position $x$."
   ]
  },
  {
   "cell_type": "code",
   "execution_count": 9,
   "metadata": {},
   "outputs": [],
   "source": [
    "T = 2.3 # terminal time\n",
    "t0 = 0  # initial time\n",
    "steps = 50 # number of steps to calculate\n",
    "dt = (T-t0)/steps # time change \n",
    "\n",
    "r_E = np.zeros((steps+1, N))\n",
    "r_I = np.zeros((steps+1, N))\n",
    "\n",
    "for m in range(steps):\n",
    "    for x in range(len(xs)):\n",
    "        r_E[m+1, x] = r_E[m, x] + dt*(1/tau_E)*(-r_E[m,x] + F(x, 'E'))\n",
    "        r_I[m+1, x] = r_I[m, x] + dt*(1/tau_I)*(-r_I[m,x] + F(x, 'I'))"
   ]
  },
  {
   "cell_type": "code",
   "execution_count": 10,
   "metadata": {},
   "outputs": [
    {
     "data": {
      "image/png": "[encoded data removed]",
      "text/plain": [
       "<Figure size 432x288 with 1 Axes>"
      ]
     },
     "metadata": {
      "needs_background": "light"
     },
     "output_type": "display_data"
    }
   ],
   "source": [
    "plt.plot(xs, r_E[-1,:])\n",
    "plt.title('Stimulus 1')\n",
    "plt.xlim(-1,181)\n",
    "plt.show()"
   ]
  }
 ],
 "metadata": {
  "kernelspec": {
   "display_name": "Python 3",
   "language": "python",
   "name": "python3"
  },
  "language_info": {
   "codemirror_mode": {
    "name": "ipython",
    "version": 3
   },
   "file_extension": ".py",
   "mimetype": "text/x-python",
   "name": "python",
   "nbconvert_exporter": "python",
   "pygments_lexer": "ipython3",
   "version": "3.8.5"
  }
 },
 "nbformat": 4,
 "nbformat_minor": 4
}

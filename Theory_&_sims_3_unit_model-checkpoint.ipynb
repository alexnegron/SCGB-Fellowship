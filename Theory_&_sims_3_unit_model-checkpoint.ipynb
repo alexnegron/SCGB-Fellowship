{
 "cells": [
  {
   "cell_type": "code",
   "execution_count": 1,
   "id": "703ed953-2493-4ab6-bd48-085a407d3fa9",
   "metadata": {
    "colab": {
     "base_uri": "https://localhost:8080/"
    },
    "id": "703ed953-2493-4ab6-bd48-085a407d3fa9",
    "outputId": "be53bed6-201c-4e6b-d895-eed315e85b2c"
   },
   "outputs": [],
   "source": [
    "import numpy as np\n",
    "from statsmodels.tsa.stattools import ccovf\n",
    "from statsmodels.tsa.stattools import ccf\n",
    "from scipy.linalg import solve_continuous_lyapunov\n",
    "from numba import jit\n",
    "from scipy import signal\n",
    "from scipy.linalg import expm\n",
    "import matplotlib.pyplot as plt\n",
    "from matplotlib.colors import Normalize\n",
    "import matplotlib.cm as cm"
   ]
  },
  {
   "cell_type": "code",
   "execution_count": 2,
   "id": "847b327d-915e-4bdd-9b4c-7a04eaf00dcf",
   "metadata": {
    "id": "847b327d-915e-4bdd-9b4c-7a04eaf00dcf"
   },
   "outputs": [],
   "source": [
    "def threshlin(I, k):\n",
    "    return k*np.maximum(I, 0)\n",
    "\n",
    "def d_threshlin(I, k):\n",
    "    return k*(np.maximum(I, 0) / np.abs(I))\n",
    "\n",
    "def correlation_from_covariance(covariance):\n",
    "    v = np.sqrt(np.diag(covariance))\n",
    "    outer_v = np.outer(v, v)\n",
    "    correlation = covariance / outer_v\n",
    "    correlation[covariance == 0] = 0\n",
    "    return correlation"
   ]
  },
  {
   "cell_type": "code",
   "execution_count": 3,
   "id": "68cb675e-3206-471e-bc20-7835ce8c91b7",
   "metadata": {
    "id": "68cb675e-3206-471e-bc20-7835ce8c91b7"
   },
   "outputs": [],
   "source": [
    "def theory_cov(N, k, s, r_ss, W, c_ne, c_ni, tau_n, tau):\n",
    "    sgn = np.block([\n",
    "        [np.ones((3*N,N)), np.ones((3*N,N)), -np.ones((3*N,N))]\n",
    "    ])\n",
    "    \n",
    "    c_n = np.diagflat(np.block([\n",
    "        [np.full((N,1), c_ne)],\n",
    "        [np.full((N,1), c_ne)],\n",
    "        [np.full((N,1), c_ni)]\n",
    "    ]))\n",
    "    \n",
    "    L = np.diagflat(d_threshlin(s + (sgn*W)@r_ss, k))\n",
    "    LW = L@(sgn*W)\n",
    "    Eye = np.eye(3*N)\n",
    "    \n",
    "    M = (1/tau)*(-Eye + LW)\n",
    "    Minv = np.linalg.inv(M)\n",
    "    \n",
    "    D = c_n@L\n",
    "    D = (1/tau)*np.sqrt(2*tau_n)*D\n",
    "    \n",
    "    Sigma = Minv @ D @ ((Minv@D).T)\n",
    "    \n",
    "    return Sigma"
   ]
  },
  {
   "cell_type": "code",
   "execution_count": 246,
   "id": "1aa45f7e-f013-47a0-93ee-e79c09e9edb2",
   "metadata": {
    "id": "1aa45f7e-f013-47a0-93ee-e79c09e9edb2"
   },
   "outputs": [],
   "source": [
    "def model(t0, T, dt, N, tau_E, tau_I, tau_n, c_ne, c_ni, J_EE, J_II, J_EI, J_IE, k, s, a, b):\n",
    "    r1 = np.zeros((N,1))\n",
    "    r2 = np.zeros((N,1))\n",
    "    rI = np.zeros((N,1))\n",
    "    \n",
    "    # matrices to store firing rates as row and time as column\n",
    "    R_ss = np.zeros((3*N, 1))\n",
    "    R_n = np.zeros((3*N, 1))\n",
    "    \n",
    "    xs = np.linspace(0, N-1, N)\n",
    "\n",
    "    W_E1E1 = W_E2E2 = J_EE\n",
    "    W_IE1 = W_IE2 = J_IE\n",
    "    W_E1I = W_E2I = J_EI\n",
    "    W_II = J_II\n",
    "    \n",
    "    W_E1E2 = b*W_E2E2\n",
    "    W_E2E1 = a*W_E1E1\n",
    "    \n",
    "    W = np.block([\n",
    "        [W_E1E1, W_E1E2, W_E1I],\n",
    "        [W_E2E1, W_E2E2, W_E2I],\n",
    "        [W_IE1, W_IE2, W_II]\n",
    "    ])\n",
    "    \n",
    "    sgn = np.block([\n",
    "        [np.ones((3*N,N)), np.ones((3*N,N)), -np.ones((3*N,N))]\n",
    "    ])\n",
    "    \n",
    "    s = np.block([\n",
    "        [s],\n",
    "        [s],\n",
    "        [s]\n",
    "    ])\n",
    "    \n",
    "    r_n = np.zeros((3*N,1))\n",
    "    r_ss = np.zeros((3*N,1))\n",
    "    \n",
    "    \n",
    "    # initial inputs \n",
    "    Id = s + (sgn*W)@r_ss\n",
    "    In = s + (sgn*W)@r_n\n",
    "    \n",
    "    \n",
    "    # smoothed noise process \n",
    "    eta = np.zeros((3*N, 1))\n",
    "    \n",
    "    # vector of E/I timescales \n",
    "    tau = np.block([\n",
    "        [np.full((N,1), tau_E)],\n",
    "        [np.full((N,1), tau_E)],\n",
    "        [np.full((N,1), tau_I)]\n",
    "    ])\n",
    "    \n",
    "    # vector of noise magnitudes\n",
    "    c_n = np.block([\n",
    "        [np.full((N,1), c_ne)],\n",
    "        [np.full((N,1), c_ne)],\n",
    "        [np.full((N,1), c_ni)]\n",
    "    ])\n",
    "    \n",
    "    M = int(T/dt)\n",
    "    ts = np.arange(M+1)\n",
    "    \n",
    "    #print(M)\n",
    "    for m in range(M):\n",
    "    # deterministic sim\n",
    "        r_ss += (dt*(1/tau))*(-r_ss + threshlin(Id, k))\n",
    "        Id = s + (sgn*W)@r_ss\n",
    "        R_ss = np.c_[R_ss, r_ss]\n",
    "    # noise sim\n",
    "        x = np.random.randn(3*N,1)\n",
    "        eta += (1/tau_n) * (-eta*dt + np.sqrt(2*tau_n*dt)*x)\n",
    "        r_n += dt*(1/tau)*(-r_n + threshlin(In + c_n*eta,k))\n",
    "        In = s + (sgn*W)@r_n \n",
    "        R_n = np.c_[R_n, r_n]\n",
    "        \n",
    "    return r_ss, r_n, R_ss, R_n, W, s, sgn, xs, ts, c_ne, c_ni, tau_n\n",
    "    "
   ]
  },
  {
   "cell_type": "markdown",
   "id": "726e69e4-11f4-4626-a43f-ec4d896647a8",
   "metadata": {
    "id": "726e69e4-11f4-4626-a43f-ec4d896647a8"
   },
   "source": [
    "# Simulation"
   ]
  },
  {
   "cell_type": "code",
   "execution_count": 247,
   "id": "1d9e3f3c-2f36-4ecb-8a0d-d33f7f570809",
   "metadata": {
    "id": "1d9e3f3c-2f36-4ecb-8a0d-d33f7f570809"
   },
   "outputs": [],
   "source": [
    "r_ss, r_n, R_ss, R_n, W, s, sgn, xs, ts, sigE, sigI, tau_n = model(t0=0, \n",
    "                                                     T=500, \n",
    "                                                     dt=0.01, \n",
    "                                                     N=1, \n",
    "                                                     tau_E=15, \n",
    "                                                     tau_I=15, \n",
    "                                                     tau_n=1, \n",
    "                                                     c_ne=1, \n",
    "                                                     c_ni=1, \n",
    "                                                           \n",
    "                                                     J_EE=1.1, \n",
    "                                                     J_II=.7, \n",
    "                                                     J_EI=.8, \n",
    "                                                     J_IE=.9,\n",
    "                                                           \n",
    "                                                     k = 1, \n",
    "                                                     s = 15,\n",
    "                                                     a = 0.1,\n",
    "                                                     b = 0.1 )"
   ]
  },
  {
   "cell_type": "code",
   "execution_count": 248,
   "id": "ca471ed9-4082-4064-9f59-d9588717fc17",
   "metadata": {},
   "outputs": [
    {
     "data": {
      "text/plain": [
       "array([[ 1.1 ,  0.11, -0.8 ],\n",
       "       [ 0.11,  1.1 , -0.8 ],\n",
       "       [ 0.9 ,  0.9 , -0.7 ]])"
      ]
     },
     "execution_count": 248,
     "metadata": {},
     "output_type": "execute_result"
    }
   ],
   "source": [
    "sgn*W"
   ]
  },
  {
   "cell_type": "code",
   "execution_count": 249,
   "id": "031974c4-a28c-45bd-b5f1-f9757fc35840",
   "metadata": {},
   "outputs": [
    {
     "data": {
      "text/plain": [
       "<matplotlib.colorbar.Colorbar at 0x7f947b62d8b0>"
      ]
     },
     "execution_count": 249,
     "metadata": {},
     "output_type": "execute_result"
    },
    {
     "data": {
      "image/png": "[encoded data removed]",
      "text/plain": [
       "<Figure size 432x288 with 2 Axes>"
      ]
     },
     "metadata": {
      "needs_background": "light"
     },
     "output_type": "display_data"
    }
   ],
   "source": [
    "plt.imshow(sgn*W, cmap='seismic')\n",
    "plt.colorbar()"
   ]
  },
  {
   "cell_type": "markdown",
   "id": "1fa1da6f-4814-495c-878a-58392041be31",
   "metadata": {
    "id": "1fa1da6f-4814-495c-878a-58392041be31"
   },
   "source": [
    "## Sample paths"
   ]
  },
  {
   "cell_type": "code",
   "execution_count": 250,
   "id": "f8fc35e6-82b4-4bf0-91de-d7661af7dba7",
   "metadata": {
    "colab": {
     "base_uri": "https://localhost:8080/",
     "height": 265
    },
    "id": "f8fc35e6-82b4-4bf0-91de-d7661af7dba7",
    "outputId": "25523fca-f198-49d4-afd2-7bde1008a9c9"
   },
   "outputs": [
    {
     "data": {
      "image/png": "[encoded data removed]",
      "text/plain": [
       "<Figure size 432x288 with 1 Axes>"
      ]
     },
     "metadata": {
      "needs_background": "light"
     },
     "output_type": "display_data"
    }
   ],
   "source": [
    "plt.plot(R_n[0,:], color='red', linestyle='--', alpha=.55)\n",
    "plt.plot(R_ss[0,:], color='red')\n",
    "\n",
    "plt.plot(R_n[1,:], color='orange', linestyle='--', alpha=.55)\n",
    "plt.plot(R_ss[1,:], color='orange')\n",
    "\n",
    "plt.plot(R_n[2,:], color='b', linestyle='--', alpha=.4)\n",
    "plt.plot(R_ss[2,:], color='b')\n",
    "\n",
    "plt.show()\n",
    "plt.show()\n",
    "plt.show()"
   ]
  },
  {
   "cell_type": "markdown",
   "id": "1807defd-db7d-44c4-89da-cd35859024c2",
   "metadata": {
    "id": "1807defd-db7d-44c4-89da-cd35859024c2"
   },
   "source": [
    "Clip transient:"
   ]
  },
  {
   "cell_type": "code",
   "execution_count": 233,
   "id": "HnmSph6tsFt2",
   "metadata": {
    "id": "HnmSph6tsFt2"
   },
   "outputs": [],
   "source": [
    "R_n = R_n[:, 20_000:]\n",
    "R_ss = R_ss[:, 20_000:]"
   ]
  },
  {
   "cell_type": "code",
   "execution_count": 234,
   "id": "977713bb-1001-41aa-afe6-f1d33e3a483d",
   "metadata": {
    "colab": {
     "base_uri": "https://localhost:8080/",
     "height": 265
    },
    "id": "977713bb-1001-41aa-afe6-f1d33e3a483d",
    "outputId": "b7588e8e-050c-4fd9-ffb4-a2b2f37024f5"
   },
   "outputs": [
    {
     "data": {
      "image/png": "[encoded data removed]",
      "text/plain": [
       "<Figure size 432x288 with 1 Axes>"
      ]
     },
     "metadata": {
      "needs_background": "light"
     },
     "output_type": "display_data"
    }
   ],
   "source": [
    "plt.plot(R_n[0,:], color='red', linestyle='--', alpha=.55)\n",
    "plt.plot(R_ss[0,:], color='red')\n",
    "\n",
    "plt.plot(R_n[1,:], color='orange', linestyle='--', alpha=.55)\n",
    "plt.plot(R_ss[1,:], color='orange')\n",
    "\n",
    "plt.plot(R_n[2,:], color='b', linestyle='--', alpha=.4)\n",
    "plt.plot(R_ss[2,:], color='b')\n",
    "\n",
    "plt.show()\n",
    "plt.show()\n",
    "plt.show()"
   ]
  },
  {
   "cell_type": "markdown",
   "id": "02a43396-e10a-40b4-923b-25eedf6f1f37",
   "metadata": {
    "id": "02a43396-e10a-40b4-923b-25eedf6f1f37"
   },
   "source": [
    "# Theoretical stationary cross-covariance function"
   ]
  },
  {
   "cell_type": "markdown",
   "id": "9850f71c-9be8-46ae-999c-282ac1e3b4be",
   "metadata": {
    "id": "9850f71c-9be8-46ae-999c-282ac1e3b4be"
   },
   "source": [
    "Flucutations $\\delta \\mathbf{r}$ about the steady state rate $\\overline{\\mathbf{r}}$ solve the linearized equation\n",
    "\n",
    "$$\n",
    "    \\delta \\mathbf{\\dot{r}} = M \\delta \\mathbf{r} + D \\mathbf{x}\n",
    "$$\n",
    "\n",
    "Theoretical stationary cross-covariance function is computed:\n",
    "\n",
    "$$ \n",
    "\\tilde{C}(s) := \\langle \\delta \\mathbf{r}_i(t), \\delta \\mathbf{r}_j(t+s) \\rangle \n",
    "=\n",
    "\\begin{cases}\n",
    "    \\exp\\left(Ms\\right)\\cdot \\Sigma, & s > 0 \\\\\n",
    "    \\Sigma \\cdot \\exp\\left(-M^\\top s\\right), & s \\leq 0\n",
    "\\end{cases}\n",
    "$$\n",
    "\n",
    "where $\\Sigma$ is the solution to the Lyapunov equation\n",
    "\n",
    "$$\n",
    "(-M)\\Sigma + \\Sigma (-M^\\top) = DD^\\top\n",
    "$$"
   ]
  },
  {
   "cell_type": "code",
   "execution_count": 195,
   "id": "6d11e3cd-c462-4643-8c9f-004c2575a973",
   "metadata": {
    "id": "6d11e3cd-c462-4643-8c9f-004c2575a973"
   },
   "outputs": [],
   "source": [
    "def stationary_acovf(lags, M, sigma, dt,tau):\n",
    "    nonpos_lags = lags[lags<=0]\n",
    "    pos_lags = lags[lags>0]\n",
    "    \n",
    "    arr1 = [sigma @ expm((-M.T)*s) for s in nonpos_lags]\n",
    "    arr2 = [expm(M*s) @ sigma for s in pos_lags]\n",
    "\n",
    "    return np.append(arr1,arr2, axis=0)"
   ]
  },
  {
   "cell_type": "code",
   "execution_count": 198,
   "id": "80ebc15b-fa67-429f-b750-08ffcf02c787",
   "metadata": {
    "id": "80ebc15b-fa67-429f-b750-08ffcf02c787"
   },
   "outputs": [],
   "source": [
    "k=1\n",
    "N=1\n",
    "tau = 15\n",
    "L = np.diagflat(d_threshlin(s + (sgn*W)@r_ss, k))\n",
    "LW = L@(sgn*W)\n",
    "Eye = np.eye(3*N)\n",
    "M = (1/tau)*(-Eye + LW) # note the 1/tau\n",
    "\n",
    "c_n = np.diagflat(np.block([\n",
    "        [np.full((N,1), sigE)],\n",
    "        [np.full((N,1), sigE)],\n",
    "        [np.full((N,1), sigI)]\n",
    "    ]))\n",
    "D = c_n@L\n",
    "D = (1/tau)*np.sqrt(2*tau_n)*D # note the 1/tau\n",
    "\n",
    "sigma = solve_continuous_lyapunov(-M, D@(D.T))"
   ]
  },
  {
   "cell_type": "code",
   "execution_count": 199,
   "id": "dd2f6cf1-315d-4d79-b61f-b761d6129be0",
   "metadata": {
    "colab": {
     "base_uri": "https://localhost:8080/"
    },
    "id": "dd2f6cf1-315d-4d79-b61f-b761d6129be0",
    "outputId": "9c55be2a-7986-458d-ed14-27aef311949b"
   },
   "outputs": [
    {
     "data": {
      "text/plain": [
       "array([[ 0.53749454, -0.52917213,  0.0029331 ],\n",
       "       [-0.52917213,  0.53749454,  0.0029331 ],\n",
       "       [ 0.0029331 ,  0.0029331 ,  0.00467426]])"
      ]
     },
     "execution_count": 199,
     "metadata": {},
     "output_type": "execute_result"
    }
   ],
   "source": [
    "sigma"
   ]
  },
  {
   "cell_type": "code",
   "execution_count": 212,
   "id": "8963b0ae-fc6f-4a4f-b168-8d7785874f73",
   "metadata": {},
   "outputs": [],
   "source": [
    "lags1 = np.arange(-100_000,100_000)\n",
    "dt = 0.01\n",
    "tau=15\n",
    "acf = stationary_acovf(lags1, M, sigma, dt, tau)\n",
    "y = [x[0,0] for x in acf]"
   ]
  },
  {
   "cell_type": "code",
   "execution_count": 213,
   "id": "76889c5a-478e-43e7-8a92-e2e0572f94ab",
   "metadata": {},
   "outputs": [
    {
     "data": {
      "text/plain": [
       "[<matplotlib.lines.Line2D at 0x7f94d088bc70>]"
      ]
     },
     "execution_count": 213,
     "metadata": {},
     "output_type": "execute_result"
    },
    {
     "data": {
      "image/png": "[encoded data removed]",
      "text/plain": [
       "<Figure size 432x288 with 1 Axes>"
      ]
     },
     "metadata": {
      "needs_background": "light"
     },
     "output_type": "display_data"
    }
   ],
   "source": [
    "plt.plot(lags1, y)"
   ]
  },
  {
   "cell_type": "code",
   "execution_count": 127,
   "id": "f0e7c151-147e-41b1-b5a7-6b61c9d791a0",
   "metadata": {
    "colab": {
     "base_uri": "https://localhost:8080/",
     "height": 268
    },
    "id": "f0e7c151-147e-41b1-b5a7-6b61c9d791a0",
    "outputId": "aaa6c184-1d67-4b28-83f9-c0440e66b6a8"
   },
   "outputs": [
    {
     "data": {
      "image/png": "[encoded data removed]",
      "text/plain": [
       "<Figure size 432x288 with 1 Axes>"
      ]
     },
     "metadata": {
      "needs_background": "light"
     },
     "output_type": "display_data"
    }
   ],
   "source": [
    "lags1 = np.arange(-100,100)\n",
    "dt = 0.01\n",
    "tau=15\n",
    "acf = stationary_acovf(lags1, M, sigma, dt, tau)\n",
    "y = [x[0,0] for x in acf]\n",
    "plt.plot(lags1, y)\n",
    "plt.show()"
   ]
  },
  {
   "cell_type": "code",
   "execution_count": 216,
   "id": "7PztJMD73u7K",
   "metadata": {
    "colab": {
     "base_uri": "https://localhost:8080/"
    },
    "id": "7PztJMD73u7K",
    "outputId": "ad0ee487-4080-42b2-d1b1-42e4e6c9bf41"
   },
   "outputs": [
    {
     "data": {
      "text/plain": [
       "64.00175675161934"
      ]
     },
     "execution_count": 216,
     "metadata": {},
     "output_type": "execute_result"
    }
   ],
   "source": [
    "np.trapz(y,dx=0.01)"
   ]
  },
  {
   "cell_type": "code",
   "execution_count": 214,
   "id": "196d8274-7bb9-48b7-821c-f1eee5869f27",
   "metadata": {},
   "outputs": [
    {
     "data": {
      "text/plain": [
       "array([[ 4.00011001e+04, -3.99988999e+04,  9.69973707e-01],\n",
       "       [-3.99988999e+04,  4.00011001e+04,  9.69973707e-01],\n",
       "       [ 9.69973707e-01,  9.69973707e-01,  9.93746900e-01]])"
      ]
     },
     "execution_count": 214,
     "metadata": {},
     "output_type": "execute_result"
    }
   ],
   "source": [
    "theory_cov(N=1, k=1, s=15, r_ss=r_ss, W=W, c_ne=.5, c_ni=.5, tau_n=1, tau=15)"
   ]
  },
  {
   "cell_type": "code",
   "execution_count": 83,
   "id": "afff64fd-5be3-4141-922b-66041b41a242",
   "metadata": {
    "id": "afff64fd-5be3-4141-922b-66041b41a242"
   },
   "outputs": [],
   "source": [
    "def xcov(x,y):\n",
    "    xbar = np.mean(x)\n",
    "    ybar = np.mean(y)\n",
    "    n = len(x)\n",
    "    d = np.arange(n)\n",
    "    k = np.append(d[::-1], d[1:])\n",
    "    \n",
    "    return signal.correlate(x-xbar, y-ybar, mode='full', method='fft')/(n-k)"
   ]
  },
  {
   "cell_type": "code",
   "execution_count": 84,
   "id": "1858cff4-c1c1-49a7-9f22-d14775b6b0eb",
   "metadata": {},
   "outputs": [
    {
     "data": {
      "image/png": "[encoded data removed]",
      "text/plain": [
       "<Figure size 432x288 with 1 Axes>"
      ]
     },
     "metadata": {
      "needs_background": "light"
     },
     "output_type": "display_data"
    }
   ],
   "source": [
    "plt.plot(xcov(R_n[0,:], R_n[0,:]))\n",
    "plt.show()"
   ]
  },
  {
   "cell_type": "code",
   "execution_count": 85,
   "id": "bd2fa795-4ae9-407c-9461-d4e652c28d0f",
   "metadata": {},
   "outputs": [
    {
     "data": {
      "image/png": "[encoded data removed]",
      "text/plain": [
       "<Figure size 432x288 with 1 Axes>"
      ]
     },
     "metadata": {
      "needs_background": "light"
     },
     "output_type": "display_data"
    }
   ],
   "source": [
    "lags2 = np.linspace(-100,100,10_000)\n",
    "plt.plot(lags2,xcov(R_n[0,:], R_n[0,:])[55_000:65_000])\n",
    "plt.show()"
   ]
  },
  {
   "cell_type": "code",
   "execution_count": 86,
   "id": "83081a37-2dbc-41c5-b974-655c6092a6ca",
   "metadata": {
    "colab": {
     "base_uri": "https://localhost:8080/",
     "height": 265
    },
    "id": "83081a37-2dbc-41c5-b974-655c6092a6ca",
    "outputId": "1f859a9f-c8cd-497d-da66-10190eb2df5c"
   },
   "outputs": [
    {
     "data": {
      "image/png": "[encoded data removed]",
      "text/plain": [
       "<Figure size 432x288 with 1 Axes>"
      ]
     },
     "metadata": {
      "needs_background": "light"
     },
     "output_type": "display_data"
    }
   ],
   "source": [
    "lags2 = np.linspace(-100,100,10_000)\n",
    "plt.plot(lags2,xcov(R_n[0,:], R_n[0,:])[55_000:65_000])\n",
    "plt.plot(lags1, y)\n",
    "plt.show()"
   ]
  },
  {
   "cell_type": "code",
   "execution_count": 159,
   "id": "idcJNdxdGjaO",
   "metadata": {
    "colab": {
     "base_uri": "https://localhost:8080/"
    },
    "id": "idcJNdxdGjaO",
    "outputId": "1cc0578e-d88f-494a-b5ce-c118648bd6df",
    "tags": []
   },
   "outputs": [],
   "source": [
    "# initial\n",
    "\n",
    "corrmat00 = np.array([])\n",
    "corrmat01 = np.array([])\n",
    "corrmat02 = np.array([])\n",
    "corrmat11 = np.array([])\n",
    "corrmat22 = np.array([])\n",
    "corrmat12 = np.array([])\n",
    "\n",
    "r_ss, r_n, R_ss, R_n, W, s, sgn, xs, ts, sigE, sigI, tau_n = model(t0=0, \n",
    "                                                    T=800, \n",
    "                                                    dt=0.01, \n",
    "                                                    N=1, \n",
    "                                                    tau_E=15, \n",
    "                                                    tau_I=15, \n",
    "                                                    tau_n=1, \n",
    "                                                    c_ne=.5, \n",
    "                                                    c_ni=.5, \n",
    "                                                          \n",
    "                                                    J_EE=.5, \n",
    "                                                    J_II=.5, \n",
    "                                                    J_EI=.8, \n",
    "                                                    J_IE=.25,\n",
    "                                                          \n",
    "                                                    k = 1, \n",
    "                                                    s = 15,\n",
    "                                                    a = 0.01,\n",
    "                                                    b = 0.01 )\n",
    "R_n = R_n[:, 20_000:]\n",
    "R_ss = R_ss[:, 20_000:]  \n",
    "corrmat00 = xcov(R_n[0,:], R_n[0,:])\n",
    "corrmat11 = xcov(R_n[1,:], R_n[1,:])\n",
    "corrmat12 = xcov(R_n[1,:], R_n[2,:])\n",
    "corrmat01 = xcov(R_n[0,:], R_n[1,:])\n",
    "corrmat02 = xcov(R_n[0,:], R_n[2,:])\n",
    "corrmat22 = xcov(R_n[2,:], R_n[2,:])"
   ]
  },
  {
   "cell_type": "code",
   "execution_count": 167,
   "id": "a1d6d7b9-a5ee-42f1-9a69-b6588bedec5a",
   "metadata": {
    "collapsed": true,
    "jupyter": {
     "outputs_hidden": true
    },
    "tags": []
   },
   "outputs": [
    {
     "name": "stdout",
     "output_type": "stream",
     "text": [
      "0\n",
      "1\n",
      "2\n",
      "3\n",
      "4\n",
      "5\n",
      "6\n",
      "7\n",
      "8\n",
      "9\n",
      "10\n",
      "11\n",
      "12\n",
      "13\n",
      "14\n",
      "15\n",
      "16\n",
      "17\n",
      "18\n",
      "19\n",
      "20\n",
      "21\n",
      "22\n",
      "23\n",
      "24\n",
      "25\n",
      "26\n",
      "27\n",
      "28\n",
      "29\n",
      "30\n",
      "31\n",
      "32\n",
      "33\n",
      "34\n",
      "35\n",
      "36\n",
      "37\n",
      "38\n",
      "39\n",
      "40\n",
      "41\n",
      "42\n",
      "43\n",
      "44\n",
      "45\n",
      "46\n",
      "47\n",
      "48\n",
      "49\n",
      "50\n",
      "51\n",
      "52\n",
      "53\n",
      "54\n",
      "55\n",
      "56\n",
      "57\n",
      "58\n",
      "59\n",
      "60\n",
      "61\n",
      "62\n",
      "63\n",
      "64\n",
      "65\n",
      "66\n",
      "67\n",
      "68\n",
      "69\n",
      "70\n",
      "71\n",
      "72\n",
      "73\n",
      "74\n",
      "75\n",
      "76\n",
      "77\n",
      "78\n",
      "79\n",
      "80\n",
      "81\n",
      "82\n",
      "83\n",
      "84\n",
      "85\n",
      "86\n",
      "87\n",
      "88\n",
      "89\n",
      "90\n",
      "91\n",
      "92\n",
      "93\n",
      "94\n",
      "95\n",
      "96\n",
      "97\n",
      "98\n",
      "99\n",
      "100\n",
      "101\n",
      "102\n",
      "103\n",
      "104\n",
      "105\n",
      "106\n",
      "107\n",
      "108\n",
      "109\n",
      "110\n",
      "111\n",
      "112\n",
      "113\n",
      "114\n",
      "115\n",
      "116\n",
      "117\n",
      "118\n",
      "119\n",
      "120\n",
      "121\n",
      "122\n",
      "123\n",
      "124\n",
      "125\n",
      "126\n",
      "127\n",
      "128\n",
      "129\n",
      "130\n",
      "131\n",
      "132\n",
      "133\n",
      "134\n",
      "135\n",
      "136\n",
      "137\n",
      "138\n",
      "139\n",
      "140\n",
      "141\n",
      "142\n",
      "143\n",
      "144\n",
      "145\n",
      "146\n",
      "147\n",
      "148\n",
      "149\n",
      "150\n",
      "151\n",
      "152\n",
      "153\n",
      "154\n",
      "155\n",
      "156\n",
      "157\n",
      "158\n",
      "159\n",
      "160\n",
      "161\n",
      "162\n",
      "163\n",
      "164\n",
      "165\n",
      "166\n",
      "167\n",
      "168\n",
      "169\n",
      "170\n",
      "171\n",
      "172\n",
      "173\n",
      "174\n",
      "175\n",
      "176\n",
      "177\n",
      "178\n",
      "179\n",
      "180\n",
      "181\n",
      "182\n",
      "183\n",
      "184\n",
      "185\n",
      "186\n",
      "187\n",
      "188\n",
      "189\n",
      "190\n",
      "191\n",
      "192\n",
      "193\n",
      "194\n",
      "195\n",
      "196\n",
      "197\n",
      "198\n",
      "199\n",
      "200\n",
      "201\n",
      "202\n",
      "203\n",
      "204\n",
      "205\n",
      "206\n",
      "207\n",
      "208\n",
      "209\n",
      "210\n",
      "211\n",
      "212\n",
      "213\n",
      "214\n",
      "215\n",
      "216\n",
      "217\n",
      "218\n",
      "219\n",
      "220\n",
      "221\n",
      "222\n",
      "223\n",
      "224\n",
      "225\n",
      "226\n",
      "227\n",
      "228\n",
      "229\n",
      "230\n",
      "231\n",
      "232\n",
      "233\n",
      "234\n",
      "235\n",
      "236\n",
      "237\n",
      "238\n",
      "239\n",
      "240\n",
      "241\n",
      "242\n",
      "243\n",
      "244\n",
      "245\n",
      "246\n",
      "247\n",
      "248\n",
      "249\n",
      "250\n",
      "251\n",
      "252\n",
      "253\n",
      "254\n",
      "255\n",
      "256\n",
      "257\n",
      "258\n",
      "259\n",
      "260\n",
      "261\n",
      "262\n",
      "263\n",
      "264\n",
      "265\n",
      "266\n",
      "267\n",
      "268\n",
      "269\n",
      "270\n",
      "271\n",
      "272\n",
      "273\n",
      "274\n",
      "275\n",
      "276\n",
      "277\n",
      "278\n",
      "279\n",
      "280\n",
      "281\n",
      "282\n",
      "283\n",
      "284\n",
      "285\n",
      "286\n",
      "287\n",
      "288\n",
      "289\n",
      "290\n",
      "291\n",
      "292\n",
      "293\n",
      "294\n",
      "295\n",
      "296\n",
      "297\n",
      "298\n",
      "299\n"
     ]
    }
   ],
   "source": [
    "# adds to existing\n",
    "\n",
    "for sim in range(300):\n",
    "    print(sim)\n",
    "    r_ss, r_n, R_ss, R_n, W, s, sgn, xs, ts, sigE, sigI, tau_n = model(t0=0, \n",
    "                                                     T=800, \n",
    "                                                     dt=0.01, \n",
    "                                                     N=1, \n",
    "                                                     tau_E=15, \n",
    "                                                     tau_I=15, \n",
    "                                                     tau_n=1, \n",
    "                                                     c_ne=.5, \n",
    "                                                     c_ni=.5, \n",
    "\n",
    "                                                     J_EE=.5, \n",
    "                                                     J_II=.5, \n",
    "                                                     J_EI=.8, \n",
    "                                                     J_IE=.25,\n",
    "\n",
    "                                                     k = 1, \n",
    "                                                     s = 15,\n",
    "                                                     a = 0.01,\n",
    "                                                     b = 0.01 )\n",
    "    R_n = R_n[:, 20_000:]\n",
    "    R_ss = R_ss[:, 20_000:]\n",
    "\n",
    "    corrmat00 = np.c_[corrmat00, xcov(R_n[0,:], R_n[0,:])]\n",
    "    corrmat11 = np.c_[corrmat11, xcov(R_n[1,:], R_n[1,:])]\n",
    "    corrmat12 = np.c_[corrmat12, xcov(R_n[1,:], R_n[2,:])]\n",
    "    corrmat01 = np.c_[corrmat01, xcov(R_n[0,:], R_n[1,:])]\n",
    "    corrmat02 = np.c_[corrmat02, xcov(R_n[0,:], R_n[2,:])]\n",
    "    corrmat22 = np.c_[corrmat22, xcov(R_n[2,:], R_n[2,:])]"
   ]
  },
  {
   "cell_type": "code",
   "execution_count": 168,
   "id": "afb35987-645b-4d7e-b90b-57360d8fa1c7",
   "metadata": {},
   "outputs": [],
   "source": [
    "k=1\n",
    "N=1\n",
    "tau = 15\n",
    "L = np.diagflat(d_threshlin(s + (sgn*W)@r_ss, k))\n",
    "LW = L@(sgn*W)\n",
    "Eye = np.eye(3*N)\n",
    "M = (1/tau)*(-Eye + LW) # note the 1/tau\n",
    "\n",
    "c_n = np.diagflat(np.block([\n",
    "        [np.full((N,1), sigE)],\n",
    "        [np.full((N,1), sigE)],\n",
    "        [np.full((N,1), sigI)]\n",
    "    ]))\n",
    "D = c_n@L\n",
    "D = (1/tau)*np.sqrt(2*tau_n)*D # note the 1/tau\n",
    "\n",
    "sigma = solve_continuous_lyapunov(-M, D@(D.T))\n",
    "\n",
    "dt = 0.01\n",
    "tau=15\n",
    "\n",
    "acf = stationary_acovf(lags1, M, sigma, dt, tau)"
   ]
  },
  {
   "cell_type": "code",
   "execution_count": 169,
   "id": "8dee1559-fbe1-4c9f-a32e-8d2202365b82",
   "metadata": {},
   "outputs": [],
   "source": [
    "lags1 = np.arange(-100,100)\n",
    "lags2 = np.linspace(-100,100,20_000)\n",
    "\n",
    "avg00 = np.mean(corrmat00, axis=1)\n",
    "avg01 = np.mean(corrmat01, axis=1)\n",
    "avg02 = np.mean(corrmat02, axis=1)\n",
    "\n",
    "\n",
    "y1 = [x[0,0] for x in acf]\n",
    "y2 = [x[0,1] for x in acf]\n",
    "y3 = [x[0,2] for x in acf]"
   ]
  },
  {
   "cell_type": "code",
   "execution_count": null,
   "id": "3b11d176-4eee-4956-9292-74c7389ef080",
   "metadata": {},
   "outputs": [],
   "source": [
    "plt.plot(lags2, avg00[50_000:70_000])\n",
    "\n"
   ]
  },
  {
   "cell_type": "code",
   "execution_count": 170,
   "id": "af42e6be-1d55-4123-bfc8-7ed9a71e90a3",
   "metadata": {},
   "outputs": [
    {
     "data": {
      "image/png": "[encoded data removed]",
      "text/plain": [
       "<Figure size 432x288 with 1 Axes>"
      ]
     },
     "metadata": {
      "needs_background": "light"
     },
     "output_type": "display_data"
    }
   ],
   "source": [
    "plt.plot(lags2, avg00[50_000:70_000])\n",
    "plt.plot(lags1, y1)\n",
    "plt.show()"
   ]
  },
  {
   "cell_type": "code",
   "execution_count": 179,
   "id": "e78f3554-a5a0-42a8-8afc-35be93263e77",
   "metadata": {},
   "outputs": [
    {
     "data": {
      "text/plain": [
       "array([[ 1.6563826 , -0.3042095 , -0.00804409],\n",
       "       [-0.3042095 ,  1.6563826 , -0.00804409],\n",
       "       [-0.00804409, -0.00804409,  0.14173877]])"
      ]
     },
     "execution_count": 179,
     "metadata": {},
     "output_type": "execute_result"
    }
   ],
   "source": [
    "theory_cov(N=1, k=1, s=15, r_ss=r_ss, W=W, c_ne=.5, c_ni=.5, tau_n=1, tau=15)"
   ]
  },
  {
   "cell_type": "code",
   "execution_count": 175,
   "id": "fe0641a5-9017-49f6-9b7a-c3c8fef85a05",
   "metadata": {},
   "outputs": [
    {
     "data": {
      "text/plain": [
       "1.1103608165676362"
      ]
     },
     "execution_count": 175,
     "metadata": {},
     "output_type": "execute_result"
    }
   ],
   "source": [
    "np.trapz(avg00[50_000:70_000], dx=0.01)"
   ]
  },
  {
   "cell_type": "code",
   "execution_count": 176,
   "id": "6bc014bb-b86c-4ed0-8c5d-8d78ba1cafb8",
   "metadata": {},
   "outputs": [
    {
     "data": {
      "text/plain": [
       "1.6225943619653385"
      ]
     },
     "execution_count": 176,
     "metadata": {},
     "output_type": "execute_result"
    }
   ],
   "source": [
    "np.trapz(y1)"
   ]
  },
  {
   "cell_type": "code",
   "execution_count": null,
   "id": "c377f8df-fabf-4f4d-bc09-29cd2d9f7350",
   "metadata": {},
   "outputs": [],
   "source": []
  },
  {
   "cell_type": "code",
   "execution_count": null,
   "id": "2ecabb36-a0ad-4206-98ed-75ad8c9f404a",
   "metadata": {},
   "outputs": [],
   "source": []
  },
  {
   "cell_type": "code",
   "execution_count": 172,
   "id": "90487e16-0507-4fe6-a727-7c90ce8410ff",
   "metadata": {},
   "outputs": [
    {
     "data": {
      "image/png": "[encoded data removed]",
      "text/plain": [
       "<Figure size 432x288 with 1 Axes>"
      ]
     },
     "metadata": {
      "needs_background": "light"
     },
     "output_type": "display_data"
    }
   ],
   "source": [
    "plt.plot(lags2, avg01[50_000:70_000])\n",
    "plt.plot(lags1, y2)\n",
    "plt.show()"
   ]
  },
  {
   "cell_type": "code",
   "execution_count": 177,
   "id": "8a0661d2-3edc-4e07-8104-39f9d17da5b4",
   "metadata": {},
   "outputs": [
    {
     "data": {
      "text/plain": [
       "-0.2693690992947666"
      ]
     },
     "execution_count": 177,
     "metadata": {},
     "output_type": "execute_result"
    }
   ],
   "source": [
    "np.trapz(y2)"
   ]
  },
  {
   "cell_type": "code",
   "execution_count": 173,
   "id": "4c1d32ec-8e61-4660-9243-d2ddbab339d9",
   "metadata": {},
   "outputs": [
    {
     "data": {
      "text/plain": [
       "-0.3485894918051894"
      ]
     },
     "execution_count": 173,
     "metadata": {},
     "output_type": "execute_result"
    }
   ],
   "source": [
    "np.trapz(2*avg01[50_000:70_000], dx=0.01)"
   ]
  },
  {
   "cell_type": "code",
   "execution_count": 174,
   "id": "04d09dfc-d479-41a6-8574-8eace14f887d",
   "metadata": {},
   "outputs": [
    {
     "data": {
      "image/png": "[encoded data removed]",
      "text/plain": [
       "<Figure size 432x288 with 1 Axes>"
      ]
     },
     "metadata": {
      "needs_background": "light"
     },
     "output_type": "display_data"
    }
   ],
   "source": [
    "plt.plot(lags2, avg02[50_000:70_000])\n",
    "plt.plot(lags1, y3)\n",
    "plt.show()"
   ]
  },
  {
   "cell_type": "code",
   "execution_count": null,
   "id": "221dbfed-fcd7-4d4d-ab75-603b7ffa9ba0",
   "metadata": {},
   "outputs": [],
   "source": []
  },
  {
   "cell_type": "code",
   "execution_count": null,
   "id": "5b0c22ea-f16f-4270-9839-ae84b7f14bb2",
   "metadata": {},
   "outputs": [],
   "source": []
  },
  {
   "cell_type": "code",
   "execution_count": null,
   "id": "db676d9b-8503-4177-b8f8-dd6747bbedb5",
   "metadata": {},
   "outputs": [],
   "source": []
  }
 ],
 "metadata": {
  "colab": {
   "name": "Theory & sims - 3 unit model.ipynb",
   "provenance": []
  },
  "kernelspec": {
   "display_name": "Python 3 (ipykernel)",
   "language": "python",
   "name": "python3"
  },
  "language_info": {
   "codemirror_mode": {
    "name": "ipython",
    "version": 3
   },
   "file_extension": ".py",
   "mimetype": "text/x-python",
   "name": "python",
   "nbconvert_exporter": "python",
   "pygments_lexer": "ipython3",
   "version": "3.9.7"
  }
 },
 "nbformat": 4,
 "nbformat_minor": 5
}
